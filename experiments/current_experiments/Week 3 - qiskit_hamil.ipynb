{
  "cells": [
    {
      "cell_type": "code",
      "execution_count": 1,
      "id": "b8d55337",
      "metadata": {},
      "outputs": [
        {
          "name": "stderr",
          "output_type": "stream",
          "text": [
            "/tmp/ipykernel_91250/2368317224.py:2: DeprecationWarning: The ``qiskit.opflow`` module is deprecated as of qiskit-terra 0.24.0. It will be removed no earlier than 3 months after the release date. For code migration guidelines, visit https://qisk.it/opflow_migration.\n",
            "  from qiskit.opflow.primitive_ops import PauliSumOp\n"
          ]
        }
      ],
      "source": [
        "import numpy as np\n",
        "from qiskit.opflow.primitive_ops import PauliSumOp\n",
        "from numpy.linalg import inv\n",
        "from divisiveclustering.datautils import DataUtils\n",
        "from divisiveclustering.coresetsUtils import Coreset, normalize_np \n",
        "import cudaq"
      ]
    },
    {
      "cell_type": "code",
      "execution_count": 2,
      "id": "a32a59e2",
      "metadata": {},
      "outputs": [],
      "source": [
        "# From Miriam's code\n",
        "def get_weighted_mean(coreset, weights):\n",
        "    dim = len(coreset[0])\n",
        "    size_coreset = len(coreset)\n",
        "    mu = np.zeros(dim)\n",
        "    for i in range(size_coreset):\n",
        "        mu += coreset[i]*weights[i]\n",
        "    return mu/sum(weights)\n",
        "\n",
        "# Helper functions for Hamiltonian creation\n",
        "def get_weighted_scatter_matrix(coreset, weights):\n",
        "    dim = len(coreset[0])\n",
        "    size_coreset = len(coreset)\n",
        "    T = np.zeros((dim,dim))\n",
        "    mu = get_weighted_mean(coreset, weights)\n",
        "    for i in range(size_coreset):\n",
        "        T += weights[i]*np.outer((coreset[i] - mu),(coreset[i] - mu))\n",
        "    return T\n",
        "\n",
        "\n",
        "def Z_i(i, length):\n",
        "    \"\"\" \n",
        "    if index i is in the range 0, ..., length-1, the function returns the operator Z_i\n",
        "    else: the funtion returns the pauli string consisting of pauli I's only\n",
        "    length is the number of pauli operators tensorised\n",
        "    \"\"\"\n",
        "    pauli_string = \"\"\n",
        "    for j in range(length):\n",
        "        if i == j:\n",
        "            pauli_string += \"Z\"\n",
        "        else:\n",
        "            pauli_string += \"I\"\n",
        "    return pauli_string\n",
        "\n",
        "def Z_ij(i, j, length):\n",
        "    pauli_string = \"\"\n",
        "    if i == j:\n",
        "        pauli_string = Z_i(-1, length) # return 'II...II'\n",
        "    else:\n",
        "        for k in range(length):\n",
        "            if k == i or k == j:\n",
        "                pauli_string += \"Z\"\n",
        "            else:\n",
        "                pauli_string += \"I\"\n",
        "    return pauli_string\n",
        "    \n",
        "# Create Hamiltonian for our problem\n",
        "def create_hamiltonian(coreset, weights):\n",
        "\n",
        "    paulis = []\n",
        "    pauli_weights = []\n",
        "    \n",
        "    T_inv = inv(get_weighted_scatter_matrix(coreset, weights))\n",
        "\n",
        "    W = sum(weights)\n",
        "\n",
        "    for i in range(len(coreset)):\n",
        "        paulis += [Z_i(-1, len(coreset))]\n",
        "        pauli_weights += [weights[i]**2*np.dot(coreset[i], np.dot(T_inv, coreset[i]))]\n",
        "    \n",
        "        for l in range(len(coreset)):\n",
        "            paulis += [Z_ij(i,l,len(coreset))]\n",
        "            pauli_weights += [-2*weights[l]*weights[i]**2*np.dot(coreset[i], np.dot(T_inv, coreset[i]))/W]\n",
        "            \n",
        "    for j in range(len(coreset)):\n",
        "        for i in range(j):\n",
        "            paulis += [Z_ij(i,j,len(coreset))]\n",
        "            pauli_weights += [2*weights[i]*weights[j]*np.dot(coreset[i], np.dot(T_inv, coreset[j]))]\n",
        "            for l in range(len(coreset)):\n",
        "                paulis += [Z_ij(i,l,len(coreset))]\n",
        "                pauli_weights += [-2*weights[l]*weights[i]*weights[j]*np.dot(coreset[i], np.dot(T_inv, coreset[j]))/W]\n",
        "                paulis += [Z_ij(j,l,len(coreset))]\n",
        "                pauli_weights += [-2*weights[l]*weights[i]*weights[j]*np.dot(coreset[i], np.dot(T_inv, coreset[j]))/W]\n",
        "            \n",
        "            \n",
        "    pauli_op = [([pauli,weight]) for pauli,weight in zip(paulis,pauli_weights)]\n",
        "    hamiltonian = PauliSumOp.from_list([ op for op in pauli_op])\n",
        "    # we consider the negative of the hamiltonian since VQE approximates the minimum (and not the maximum)\n",
        "    hamiltonian = -hamiltonian\n",
        "    \n",
        "    # Only change made    \n",
        "    return hamiltonian, paulis, pauli_weights"
      ]
    },
    {
      "cell_type": "code",
      "execution_count": 3,
      "id": "99632bff",
      "metadata": {},
      "outputs": [
        {
          "name": "stdout",
          "output_type": "stream",
          "text": [
            "Data loaded from ../../data/dataset.pickle\n"
          ]
        },
        {
          "name": "stderr",
          "output_type": "stream",
          "text": [
            "/usr/local/lib/python3.10/dist-packages/sklearn/cluster/_kmeans.py:870: FutureWarning: The default value of `n_init` will change from 10 to 'auto' in 1.4. Set the value of `n_init` explicitly to suppress the warning\n",
            "  warnings.warn(\n",
            "/usr/local/lib/python3.10/dist-packages/sklearn/cluster/_kmeans.py:870: FutureWarning: The default value of `n_init` will change from 10 to 'auto' in 1.4. Set the value of `n_init` explicitly to suppress the warning\n",
            "  warnings.warn(\n",
            "/usr/local/lib/python3.10/dist-packages/sklearn/cluster/_kmeans.py:870: FutureWarning: The default value of `n_init` will change from 10 to 'auto' in 1.4. Set the value of `n_init` explicitly to suppress the warning\n",
            "  warnings.warn(\n",
            "/usr/local/lib/python3.10/dist-packages/sklearn/cluster/_kmeans.py:870: FutureWarning: The default value of `n_init` will change from 10 to 'auto' in 1.4. Set the value of `n_init` explicitly to suppress the warning\n",
            "  warnings.warn(\n",
            "/usr/local/lib/python3.10/dist-packages/sklearn/cluster/_kmeans.py:870: FutureWarning: The default value of `n_init` will change from 10 to 'auto' in 1.4. Set the value of `n_init` explicitly to suppress the warning\n",
            "  warnings.warn(\n",
            "/usr/local/lib/python3.10/dist-packages/sklearn/cluster/_kmeans.py:870: FutureWarning: The default value of `n_init` will change from 10 to 'auto' in 1.4. Set the value of `n_init` explicitly to suppress the warning\n",
            "  warnings.warn(\n",
            "/usr/local/lib/python3.10/dist-packages/sklearn/cluster/_kmeans.py:870: FutureWarning: The default value of `n_init` will change from 10 to 'auto' in 1.4. Set the value of `n_init` explicitly to suppress the warning\n",
            "  warnings.warn(\n",
            "/usr/local/lib/python3.10/dist-packages/sklearn/cluster/_kmeans.py:870: FutureWarning: The default value of `n_init` will change from 10 to 'auto' in 1.4. Set the value of `n_init` explicitly to suppress the warning\n",
            "  warnings.warn(\n",
            "/usr/local/lib/python3.10/dist-packages/sklearn/cluster/_kmeans.py:870: FutureWarning: The default value of `n_init` will change from 10 to 'auto' in 1.4. Set the value of `n_init` explicitly to suppress the warning\n",
            "  warnings.warn(\n",
            "/usr/local/lib/python3.10/dist-packages/sklearn/cluster/_kmeans.py:870: FutureWarning: The default value of `n_init` will change from 10 to 'auto' in 1.4. Set the value of `n_init` explicitly to suppress the warning\n",
            "  warnings.warn(\n"
          ]
        }
      ],
      "source": [
        "# Creating \n",
        "number_of_qubits = 5\n",
        "circuit_depth = 1\n",
        "parameter_count = 4 * circuit_depth * number_of_qubits \n",
        "\n",
        "data_utils = DataUtils('../../data')\n",
        "\n",
        "try:\n",
        "    raw_data = data_utils.load_dataset()\n",
        "except:\n",
        "    raw_data = data_utils.create_dataset(n_samples = 1000)\n",
        "\n",
        "coresets = Coreset()\n",
        "\n",
        "coreset_vectors, coreset_weights = coresets.get_coresets(\n",
        "    data_vectors=raw_data, number_of_runs=10, coreset_numbers=5, size_vec_list=10\n",
        ")\n",
        "\n",
        "best_coreset_vectors, best_coreset_weights = coresets.get_best_coresets(raw_data, coreset_vectors, coreset_weights)\n",
        "normalized_cv = normalize_np(best_coreset_vectors, centralize=True)\n",
        "normalized_cw = normalize_np(best_coreset_weights, centralize=False)"
      ]
    },
    {
      "cell_type": "code",
      "execution_count": 4,
      "id": "375d75d9",
      "metadata": {},
      "outputs": [],
      "source": [
        "hamiltonian_qiskit, paulis, pauli_weights = create_hamiltonian(normalized_cv, normalized_cw)"
      ]
    },
    {
      "cell_type": "code",
      "execution_count": 5,
      "id": "f43bfbf6",
      "metadata": {},
      "outputs": [
        {
          "data": {
            "text/plain": [
              "PauliSumOp(SparsePauliOp(['IIIII', 'ZZIII', 'ZIZII', 'ZIIZI', 'ZIIIZ', 'IZZII', 'IZIZI', 'IZIIZ', 'IIZZI', 'IIZIZ', 'IIIZZ'],\n",
              "              coeffs=[-1.23055996+0.j, -0.22409758+0.j,  0.02683374+0.j,  0.14470258+0.j,\n",
              "  0.27230605+0.j,  0.28018389+0.j,  0.39015886+0.j,  0.20771837+0.j,\n",
              " -0.29947509+0.j,  0.7593609 +0.j,  0.29525535+0.j]), coeff=1.0)"
            ]
          },
          "execution_count": 5,
          "metadata": {},
          "output_type": "execute_result"
        }
      ],
      "source": [
        "hamiltonian_qiskit_reduced = hamiltonian_qiskit.reduce()\n",
        "hamiltonian_qiskit_reduced"
      ]
    },
    {
      "cell_type": "code",
      "execution_count": 6,
      "id": "072fdd56",
      "metadata": {},
      "outputs": [
        {
          "data": {
            "text/plain": [
              "11"
            ]
          },
          "execution_count": 6,
          "metadata": {},
          "output_type": "execute_result"
        }
      ],
      "source": [
        "len(hamiltonian_qiskit_reduced)"
      ]
    },
    {
      "cell_type": "code",
      "execution_count": 7,
      "id": "15f2c46b",
      "metadata": {},
      "outputs": [],
      "source": [
        "operator_dict = {\n",
        "    \"I\" : cudaq.spin.i,\n",
        "    \"Z\": cudaq.spin.z,\n",
        "    \"X\": cudaq.spin.x,\n",
        "    \"Y\": cudaq.spin.y\n",
        "}\n",
        "\n",
        "\n",
        "hamil_all = cudaq.SpinOperator()\n",
        "hamil_list = []\n",
        "for position, pauli in enumerate(paulis):\n",
        "    hamil_cudaq = cudaq.SpinOperator()\n",
        "    for i, term in enumerate(pauli):\n",
        "        hamil_cudaq = hamil_cudaq *operator_dict.get(term)(i)\n",
        "    hamil_cudaq = hamil_cudaq*pauli_weights[position]\n",
        "    hamil_list.append(hamil_cudaq)\n",
        "\n",
        "    \n",
        "hamil = cudaq.SpinOperator()\n",
        "for hamil_from_list in hamil_list:\n",
        "    hamil += hamil_from_list\n",
        "    \n",
        "# remove the extra term added because of cudaq.SpinOperator()\n",
        "hamiltonian_cudaq = hamil - cudaq.spin.i(0)\n",
        "hamiltonian_cudaq = hamiltonian_cudaq*-1\n"
      ]
    },
    {
      "cell_type": "code",
      "execution_count": 8,
      "id": "f7247d85",
      "metadata": {},
      "outputs": [
        {
          "data": {
            "text/plain": [
              "'(-1.23056,-0) I0I1I2I3I4 + (-0.224098,-0) Z0Z1I2I3I4 + (0.0268337,-0) Z0I1Z2I3I4 + (0.144703,-0) Z0I1I2Z3I4 + (0.272306,-0) Z0I1I2I3Z4 + (0.280184,-0) I0Z1Z2I3I4 + (0.390159,-0) I0Z1I2Z3I4 + (0.207718,-0) I0Z1I2I3Z4 + (-0.299475,-0) I0I1Z2Z3I4 + (0.759361,-0) I0I1Z2I3Z4 + (0.295255,-0) I0I1I2Z3Z4'"
            ]
          },
          "execution_count": 8,
          "metadata": {},
          "output_type": "execute_result"
        }
      ],
      "source": [
        "hamiltonian_cudaq.to_string()"
      ]
    },
    {
      "cell_type": "code",
      "execution_count": 9,
      "id": "53944b1a",
      "metadata": {},
      "outputs": [
        {
          "data": {
            "text/plain": [
              "PauliSumOp(SparsePauliOp(['IIIII', 'ZZIII', 'ZIZII', 'ZIIZI', 'ZIIIZ', 'IZZII', 'IZIZI', 'IZIIZ', 'IIZZI', 'IIZIZ', 'IIIZZ'],\n",
              "              coeffs=[-1.23055996+0.j, -0.22409758+0.j,  0.02683374+0.j,  0.14470258+0.j,\n",
              "  0.27230605+0.j,  0.28018389+0.j,  0.39015886+0.j,  0.20771837+0.j,\n",
              " -0.29947509+0.j,  0.7593609 +0.j,  0.29525535+0.j]), coeff=1.0)"
            ]
          },
          "execution_count": 9,
          "metadata": {},
          "output_type": "execute_result"
        }
      ],
      "source": [
        "hamiltonian_qiskit_reduced"
      ]
    },
    {
      "cell_type": "code",
      "execution_count": 11,
      "id": "f12c0902",
      "metadata": {},
      "outputs": [],
      "source": [
        "hamiltonian_cudaq_np = np.asarray(hamiltonian_cudaq.get_coefficients())"
      ]
    },
    {
      "cell_type": "code",
      "execution_count": 14,
      "id": "2e2fc16a",
      "metadata": {},
      "outputs": [
        {
          "data": {
            "text/plain": [
              "array([False,  True,  True,  True,  True,  True,  True,  True,  True,\n",
              "        True,  True])"
            ]
          },
          "execution_count": 14,
          "metadata": {},
          "output_type": "execute_result"
        }
      ],
      "source": [
        "np.equal(hamiltonian_qiskit_reduced.coeffs, hamiltonian_cudaq_np)"
      ]
    },
    {
      "cell_type": "code",
      "execution_count": 13,
      "id": "f19481df",
      "metadata": {},
      "outputs": [
        {
          "data": {
            "text/plain": [
              "array([-1.23055996+0.j, -0.22409758+0.j,  0.02683374+0.j,  0.14470258+0.j,\n",
              "        0.27230605+0.j,  0.28018389+0.j,  0.39015886+0.j,  0.20771837+0.j,\n",
              "       -0.29947509+0.j,  0.7593609 +0.j,  0.29525535+0.j])"
            ]
          },
          "execution_count": 13,
          "metadata": {},
          "output_type": "execute_result"
        }
      ],
      "source": [
        "hamiltonian_qiskit_reduced.coeffs"
      ]
    },
    {
      "cell_type": "code",
      "execution_count": 15,
      "id": "3621d519",
      "metadata": {},
      "outputs": [
        {
          "data": {
            "text/plain": [
              "array([-1.23055996-0.j, -0.22409758-0.j,  0.02683374-0.j,  0.14470258-0.j,\n",
              "        0.27230605-0.j,  0.28018389-0.j,  0.39015886-0.j,  0.20771837-0.j,\n",
              "       -0.29947509-0.j,  0.7593609 -0.j,  0.29525535-0.j])"
            ]
          },
          "execution_count": 15,
          "metadata": {},
          "output_type": "execute_result"
        }
      ],
      "source": [
        "hamiltonian_cudaq_np"
      ]
    },
    {
      "cell_type": "code",
      "execution_count": 16,
      "id": "19510aed",
      "metadata": {},
      "outputs": [
        {
          "data": {
            "text/plain": [
              "(-1.2305599617309166-0j)"
            ]
          },
          "execution_count": 16,
          "metadata": {},
          "output_type": "execute_result"
        }
      ],
      "source": [
        "hamiltonian_cudaq_np[0]"
      ]
    },
    {
      "cell_type": "code",
      "execution_count": 17,
      "id": "a5b8dded",
      "metadata": {},
      "outputs": [
        {
          "data": {
            "text/plain": [
              "(-1.230559961730917+0j)"
            ]
          },
          "execution_count": 17,
          "metadata": {},
          "output_type": "execute_result"
        }
      ],
      "source": [
        "hamiltonian_qiskit_reduced.coeffs[0]"
      ]
    },
    {
      "cell_type": "code",
      "execution_count": null,
      "id": "eabe42e3",
      "metadata": {},
      "outputs": [],
      "source": []
    }
  ],
  "metadata": {
    "kernelspec": {
      "display_name": "Python 3 (ipykernel)",
      "language": "python",
      "name": "python3"
    },
    "language_info": {
      "codemirror_mode": {
        "name": "ipython",
        "version": 3
      },
      "file_extension": ".py",
      "mimetype": "text/x-python",
      "name": "python",
      "nbconvert_exporter": "python",
      "pygments_lexer": "ipython3",
      "version": "3.10.6"
    }
  },
  "nbformat": 4,
  "nbformat_minor": 5
}
