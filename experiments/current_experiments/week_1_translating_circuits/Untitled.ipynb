{
  "cells": [
    {
      "cell_type": "code",
      "execution_count": 1,
      "id": "e57527d4",
      "metadata": {},
      "outputs": [],
      "source": [
        "from orqviz.utils import load_viz_object\n",
        "from orqviz.scans import plot_2D_scan_result, plot_1D_interpolation_result\n",
        "from orqviz.pca import (get_pca,\n",
        "                        plot_pca_landscape,\n",
        "                        plot_optimization_trajectory_on_pca)\n",
        "from divisiveclustering.datautils import DataUtils\n",
        "import numpy as np\n",
        "import matplotlib.pyplot as plt\n",
        "from divisiveclustering.plotsutils import get_trajectories_collection, plot_optimization_trajectory\n",
        "import pickle\n",
        "import pennylane as qml"
      ]
    },
    {
      "cell_type": "code",
      "execution_count": 2,
      "id": "9ea015b1",
      "metadata": {},
      "outputs": [],
      "source": [
        "from divisiveclustering.quantumutils._quantumutils import vqe_ansatz, create_Hamiltonian_for_K2"
      ]
    },
    {
      "cell_type": "code",
      "execution_count": 9,
      "id": "259ab1dc",
      "metadata": {},
      "outputs": [],
      "source": [
        "# parameters\n",
        "centers = 4\n",
        "dimensions = 2\n",
        "number_of_rows = 1000\n",
        "random_state = 10\n",
        "save_file = False\n",
        "\n",
        "number_of_runs = 10\n",
        "coreset_numbers = 5\n",
        "vector_list_size = 10\n",
        "\n",
        "shots = 100\n",
        "depth = 1"
      ]
    },
    {
      "cell_type": "code",
      "execution_count": 4,
      "id": "549ecaf0",
      "metadata": {},
      "outputs": [],
      "source": [
        "# create a random data\n",
        "from divisiveclustering.datautils import DataUtils\n",
        "data_creation = DataUtils()\n",
        "raw_data = data_creation.create_new_data_set(number_of_rows, centers, dimensions, random_state, save_file=save_file)"
      ]
    },
    {
      "cell_type": "code",
      "execution_count": 5,
      "id": "dbd0bf0a",
      "metadata": {},
      "outputs": [
        {
          "data": {
            "text/plain": [
              "array([[ 4.4016599 , -9.42456185],\n",
              "       [-6.12795872,  5.01025395],\n",
              "       [-6.25332117,  5.01582549],\n",
              "       ...,\n",
              "       [-5.29208972,  4.54111279],\n",
              "       [ 5.77276444, -8.64259652],\n",
              "       [ 1.54076696,  4.06513159]])"
            ]
          },
          "execution_count": 5,
          "metadata": {},
          "output_type": "execute_result"
        }
      ],
      "source": [
        "raw_data"
      ]
    },
    {
      "cell_type": "code",
      "execution_count": 6,
      "id": "61f6c562",
      "metadata": {},
      "outputs": [
        {
          "name": "stderr",
          "output_type": "stream",
          "text": [
            "/opt/conda/lib/python3.8/site-packages/sklearn/cluster/_kmeans.py:870: FutureWarning: The default value of `n_init` will change from 10 to 'auto' in 1.4. Set the value of `n_init` explicitly to suppress the warning\n",
            "  warnings.warn(\n",
            "/opt/conda/lib/python3.8/site-packages/sklearn/cluster/_kmeans.py:870: FutureWarning: The default value of `n_init` will change from 10 to 'auto' in 1.4. Set the value of `n_init` explicitly to suppress the warning\n",
            "  warnings.warn(\n",
            "/opt/conda/lib/python3.8/site-packages/sklearn/cluster/_kmeans.py:870: FutureWarning: The default value of `n_init` will change from 10 to 'auto' in 1.4. Set the value of `n_init` explicitly to suppress the warning\n",
            "  warnings.warn(\n",
            "/opt/conda/lib/python3.8/site-packages/sklearn/cluster/_kmeans.py:870: FutureWarning: The default value of `n_init` will change from 10 to 'auto' in 1.4. Set the value of `n_init` explicitly to suppress the warning\n",
            "  warnings.warn(\n",
            "/opt/conda/lib/python3.8/site-packages/sklearn/cluster/_kmeans.py:870: FutureWarning: The default value of `n_init` will change from 10 to 'auto' in 1.4. Set the value of `n_init` explicitly to suppress the warning\n",
            "  warnings.warn(\n",
            "/opt/conda/lib/python3.8/site-packages/sklearn/cluster/_kmeans.py:870: FutureWarning: The default value of `n_init` will change from 10 to 'auto' in 1.4. Set the value of `n_init` explicitly to suppress the warning\n",
            "  warnings.warn(\n",
            "/opt/conda/lib/python3.8/site-packages/sklearn/cluster/_kmeans.py:870: FutureWarning: The default value of `n_init` will change from 10 to 'auto' in 1.4. Set the value of `n_init` explicitly to suppress the warning\n",
            "  warnings.warn(\n",
            "/opt/conda/lib/python3.8/site-packages/sklearn/cluster/_kmeans.py:870: FutureWarning: The default value of `n_init` will change from 10 to 'auto' in 1.4. Set the value of `n_init` explicitly to suppress the warning\n",
            "  warnings.warn(\n",
            "/opt/conda/lib/python3.8/site-packages/sklearn/cluster/_kmeans.py:870: FutureWarning: The default value of `n_init` will change from 10 to 'auto' in 1.4. Set the value of `n_init` explicitly to suppress the warning\n",
            "  warnings.warn(\n",
            "/opt/conda/lib/python3.8/site-packages/sklearn/cluster/_kmeans.py:870: FutureWarning: The default value of `n_init` will change from 10 to 'auto' in 1.4. Set the value of `n_init` explicitly to suppress the warning\n",
            "  warnings.warn(\n"
          ]
        }
      ],
      "source": [
        "# create coreset\n",
        "from divisiveclustering.coresetsUtils import Coreset\n",
        "from divisiveclustering.coresetsUtils import coreset_to_graph\n",
        "\n",
        "coresetutil = Coreset()\n",
        "\n",
        "coreset_vector, coreset_weights = coresetutil.get_coresets(\n",
        "    data_vectors=raw_data, number_of_runs=number_of_runs, coreset_numbers=coreset_numbers, size_vec_list=vector_list_size\n",
        ")\n",
        "\n",
        "best_coreset_vectors, best_coreset_weights = coresetutil.get_best_coresets(raw_data, coreset_vector, coreset_weights)\n",
        "\n",
        "\n",
        "\n",
        "coreset_points, G, H, weight_matrix, weights = coreset_to_graph(\n",
        "    best_coreset_vectors, best_coreset_weights, metric=\"dot\"\n",
        ")\n",
        "qubits = len(G.nodes)"
      ]
    },
    {
      "cell_type": "code",
      "execution_count": 10,
      "id": "d080c750",
      "metadata": {},
      "outputs": [],
      "source": [
        "# quantum variables\n",
        "dev = qml.device(\"qulacs.simulator\", wires=qubits, shots=shots)\n",
        "cost_H = create_Hamiltonian_for_K2(G, weights, nodes=qubits, add_identity=False)\n",
        "params = np.random.random(qubits * 4 * depth)"
      ]
    },
    {
      "cell_type": "code",
      "execution_count": 11,
      "id": "5d9112c9",
      "metadata": {},
      "outputs": [
        {
          "data": {
            "text/plain": [
              "array([0.63074619, 0.18619837, 0.95120866, 0.89232863, 0.5454123 ,\n",
              "       0.7421312 , 0.07091227, 0.69868461, 0.3640498 , 0.01647817,\n",
              "       0.75150401, 0.26346899, 0.06646533, 0.72757068, 0.88520406,\n",
              "       0.44593946, 0.00195265, 0.09695532, 0.06582929, 0.10218086])"
            ]
          },
          "execution_count": 11,
          "metadata": {},
          "output_type": "execute_result"
        }
      ],
      "source": [
        "params"
      ]
    },
    {
      "cell_type": "code",
      "execution_count": 14,
      "id": "82065979",
      "metadata": {},
      "outputs": [],
      "source": [
        "# VQE ansatz\n",
        "from divisiveclustering.quantumutils import (\n",
        "    vqe_ansatz,\n",
        ")\n",
        "\n",
        "\n",
        "vqe_ansatz(params, qubits, depth, G, dev)"
      ]
    },
    {
      "cell_type": "code",
      "execution_count": 16,
      "id": "0364b1dc",
      "metadata": {},
      "outputs": [
        {
          "ename": "AttributeError",
          "evalue": "'function' object has no attribute 'construct'",
          "output_type": "error",
          "traceback": [
            "\u001b[0;31m---------------------------------------------------------------------------\u001b[0m",
            "\u001b[0;31mAttributeError\u001b[0m                            Traceback (most recent call last)",
            "Cell \u001b[0;32mIn[16], line 1\u001b[0m\n\u001b[0;32m----> 1\u001b[0m fig, ax \u001b[38;5;241m=\u001b[39m \u001b[43mqml\u001b[49m\u001b[38;5;241;43m.\u001b[39;49m\u001b[43mdraw_mpl\u001b[49m\u001b[43m(\u001b[49m\u001b[43mvqe_ansatz\u001b[49m\u001b[43m)\u001b[49m\u001b[43m(\u001b[49m\u001b[43mparams\u001b[49m\u001b[43m)\u001b[49m\n",
            "File \u001b[0;32m/opt/conda/lib/python3.8/site-packages/pennylane/transforms/draw.py:338\u001b[0m, in \u001b[0;36mdraw_mpl.<locals>.wrapper\u001b[0;34m(*args, **kwargs_qnode)\u001b[0m\n\u001b[1;32m    336\u001b[0m \u001b[38;5;129m@wraps\u001b[39m(qnode)\n\u001b[1;32m    337\u001b[0m \u001b[38;5;28;01mdef\u001b[39;00m \u001b[38;5;21mwrapper\u001b[39m(\u001b[38;5;241m*\u001b[39margs, \u001b[38;5;241m*\u001b[39m\u001b[38;5;241m*\u001b[39mkwargs_qnode):\n\u001b[0;32m--> 338\u001b[0m     \u001b[43mqnode\u001b[49m\u001b[38;5;241;43m.\u001b[39;49m\u001b[43mconstruct\u001b[49m(args, kwargs_qnode)\n\u001b[1;32m    340\u001b[0m     _wire_order \u001b[38;5;241m=\u001b[39m wire_order \u001b[38;5;129;01mor\u001b[39;00m qnode\u001b[38;5;241m.\u001b[39mdevice\u001b[38;5;241m.\u001b[39mwires\n\u001b[1;32m    342\u001b[0m     \u001b[38;5;28;01mreturn\u001b[39;00m tape_mpl(\n\u001b[1;32m    343\u001b[0m         qnode\u001b[38;5;241m.\u001b[39mqtape,\n\u001b[1;32m    344\u001b[0m         wire_order\u001b[38;5;241m=\u001b[39m_wire_order,\n\u001b[0;32m   (...)\u001b[0m\n\u001b[1;32m    347\u001b[0m         \u001b[38;5;241m*\u001b[39m\u001b[38;5;241m*\u001b[39mkwargs,\n\u001b[1;32m    348\u001b[0m     )\n",
            "\u001b[0;31mAttributeError\u001b[0m: 'function' object has no attribute 'construct'"
          ]
        }
      ],
      "source": [
        "fig, ax = qml.draw_mpl(vqe_ansatz)(params)"
      ]
    },
    {
      "cell_type": "code",
      "execution_count": 27,
      "id": "afac471f",
      "metadata": {},
      "outputs": [
        {
          "data": {
            "image/png": "[encoded data removed]",
            "text/plain": [
              "<Figure size 1100x600 with 1 Axes>"
            ]
          },
          "metadata": {},
          "output_type": "display_data"
        }
      ],
      "source": [
        "@qml.qnode(dev)\n",
        "def circuit(params: np.ndarray, wires, depth: int, G, dev):\n",
        "    \"\"\"\n",
        "    Create VQE ansatz for the problem\n",
        "\n",
        "    Args:\n",
        "        params: circuit parameters\n",
        "        wires: wires of the circuit\n",
        "        depth: circuit depth\n",
        "        G: Problem as a graph\n",
        "        dev: device information from pennylane\n",
        "    \"\"\"\n",
        "\n",
        "    wires = len(dev.wires)\n",
        "\n",
        "    params_p = params.reshape(depth, 4, -1)\n",
        "\n",
        "    for p in range(depth):\n",
        "        theta_vals = params_p[p]\n",
        "\n",
        "        for wire in range(wires):\n",
        "\n",
        "            qml.RY(theta_vals[0][wire], wires=wire)\n",
        "            qml.RZ(theta_vals[1][wire], wires=wire)\n",
        "\n",
        "            if wire > 0:\n",
        "                qml.CNOT(wires=[wire - 1, wire])\n",
        "\n",
        "        for wire in range(wires):\n",
        "            qml.RY(theta_vals[2][wire], wires=wire)\n",
        "            qml.RZ(theta_vals[3][wire], wires=wire)\n",
        "            \n",
        "    return qml.expval(qml.PauliZ(0))\n",
        "\n",
        "qml.drawer.use_style('default')\n",
        "fig, ax = qml.draw_mpl(circuit)(params = params, wires = qubits, depth = 1, G = G, dev = dev)"
      ]
    },
    {
      "cell_type": "code",
      "execution_count": 28,
      "id": "0ac101e6",
      "metadata": {},
      "outputs": [],
      "source": [
        "def vqe_circuit(G, params, entanglement='linear'):\n",
        "    '''\n",
        "    Builds the vqe circuit from the problem graph.\n",
        "    Inputs:\n",
        "    G: type networkx graph object - the problem graph\n",
        "    params: type array - 2 * number of qubit parameters\n",
        "            for the RY and RX gate (RY params followed by\n",
        "            RX params.)\n",
        "    entanglement: linear - one CNOT applied between adjacent\n",
        "                           qubits (default).\n",
        "                  full - CNOT applied between all qubits.\n",
        "    '''\n",
        "    #Number of qubits is 2x number of data points/vertices\n",
        "    num_qubits = 2 * len(list(G.nodes))\n",
        "    #Initialise circuit with equal number of qubits and classical bits\n",
        "    circuit = QuantumCircuit(num_qubits, num_qubits)\n",
        "    Rx_index = 0\n",
        "    Ry_index = int(len(params) / 2)\n",
        "    while Rx_index <= int((len(params) / 2) - 1):\n",
        "        #Add RY followed by RX gates on each qubit\n",
        "        for i in range(num_qubits):\n",
        "            circuit.ry(params[Rx_index], i)\n",
        "            circuit.rx(params[Ry_index], i)\n",
        "            Rx_index +=1\n",
        "            Ry_index +=1\n",
        "\n",
        "        circuit.barrier()\n",
        "        if Rx_index <= int((len(params) / 2) - 2):\n",
        "            #Add CNOT's to entangle qubits - either linear or full entanglement\n",
        "            if entanglement == 'linear':\n",
        "                #Total number of CNOTs in linear entanglement case\n",
        "                no_cnots = num_qubits - 1\n",
        "                for i in range(no_cnots):\n",
        "                    circuit.cnot(i, i + 1)\n",
        "            if entanglement == 'full':\n",
        "                #Number of CNOTs with 0 as control in full entanglement case\n",
        "                no_cnots = num_qubits - 1\n",
        "                for i in range(no_cnots):\n",
        "                    for j in range(i + 1, num_qubits):\n",
        "                        circuit.cnot(i, j)\n",
        "\n",
        "            circuit.barrier()\n",
        "        else:\n",
        "            pass\n",
        "    #Measure all qubits and write out to classical bits\n",
        "    circuit.measure(range(num_qubits), range(num_qubits))\n",
        "    return circuit\n",
        "\n",
        "def draw_circuit(circuit):\n",
        "    circuit.draw('mpl', style='iqx', fold=50)\n",
        "    plt.show()"
      ]
    },
    {
      "cell_type": "code",
      "execution_count": null,
      "id": "24c07a87",
      "metadata": {},
      "outputs": [],
      "source": []
    }
  ],
  "metadata": {
    "kernelspec": {
      "display_name": "Python 3 (ipykernel)",
      "language": "python",
      "name": "python3"
    },
    "language_info": {
      "codemirror_mode": {
        "name": "ipython",
        "version": 3
      },
      "file_extension": ".py",
      "mimetype": "text/x-python",
      "name": "python",
      "nbconvert_exporter": "python",
      "pygments_lexer": "ipython3",
      "version": "3.8.15"
    }
  },
  "nbformat": 4,
  "nbformat_minor": 5
}
