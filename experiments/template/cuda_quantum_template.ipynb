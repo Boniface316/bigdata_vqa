{
 "cells": [
  {
   "cell_type": "code",
   "execution_count": 15,
   "id": "24171bec",
   "metadata": {},
   "outputs": [],
   "source": [
    "import cudaq\n",
    "from cudaq import spin"
   ]
  },
  {
   "cell_type": "code",
   "execution_count": 16,
   "id": "f2c1b4dc",
   "metadata": {},
   "outputs": [
    {
     "name": "stdout",
     "output_type": "stream",
     "text": [
      "\n",
      "minimized <H> = -1.749\n",
      "optimal theta = 0.594\n"
     ]
    }
   ],
   "source": [
    "# We begin by defining the spin Hamiltonian for the system that we are working\n",
    "# with. This is achieved through the use of `cudaq.SpinOperator`'s, which allow\n",
    "# for the convenient creation of complex Hamiltonians out of Pauli spin operators.\n",
    "hamiltonian = 5.907 - 2.1433 * spin.x(0) * spin.x(1) - 2.1433 * spin.y(\n",
    "    0) * spin.y(1) + .21829 * spin.z(0) - 6.125 * spin.z(1)\n",
    "\n",
    "# Next, using the `cudaq.Kernel`, we define the variational quantum circuit\n",
    "# that we'd like to use as an ansatz.\n",
    "# Create a kernel that takes a list of floats as a function argument.\n",
    "kernel, thetas = cudaq.make_kernel(list)\n",
    "# Allocate 2 qubits.\n",
    "qubits = kernel.qalloc(2)\n",
    "kernel.x(qubits[0])\n",
    "# Apply an `ry` gate that's parameterized by the first\n",
    "# `QuakeValue` entry of our list, `thetas`.\n",
    "kernel.ry(thetas[0], qubits[1])\n",
    "kernel.cx(qubits[1], qubits[0])\n",
    "\n",
    "# Note: the kernel must not contain measurement instructions.\n",
    "\n",
    "# The last thing we need is to pick an optimizer from the suite of `cudaq.optimizers`.\n",
    "# We can optionally tune this optimizer through its initial parameters, iterations,\n",
    "# optimization bounds, etc. before passing it to `cudaq.vqe`.\n",
    "optimizer = cudaq.optimizers.COBYLA()\n",
    "# optimizer.max_iterations = XXXX\n",
    "# optimizer...\n",
    "\n",
    "# Finally, we can pass all of that into `cudaq.vqe` and it will automatically run our\n",
    "# optimization loop and return a tuple of the minimized eigenvalue of our `spin_operator`\n",
    "# and the list of optimal variational parameters.\n",
    "energy, parameter = cudaq.vqe(\n",
    "    kernel=kernel,\n",
    "    spin_operator=hamiltonian,\n",
    "    optimizer=optimizer,\n",
    "    # list of parameters has length of 1:\n",
    "    parameter_count=1)\n",
    "\n",
    "print(f\"\\nminimized <H> = {round(energy,3)}\")\n",
    "print(f\"optimal theta = {round(parameter[0],3)}\")"
   ]
  },
  {
   "cell_type": "markdown",
   "id": "297630ff",
   "metadata": {},
   "source": [
    "# Template"
   ]
  },
  {
   "cell_type": "code",
   "execution_count": null,
   "id": "685b36ec",
   "metadata": {},
   "outputs": [],
   "source": [
    "import cudaq\n",
    "from cudaq import spin\n",
    "\n",
    "from typing import List, Tuple"
   ]
  },
  {
   "cell_type": "code",
   "execution_count": null,
   "id": "3907dd00",
   "metadata": {},
   "outputs": [],
   "source": [
    "def create_hamiltonian(G, **args, **kwargs):\n",
    "    # TODO: create a function to transform G into a hamiltonian\n",
    "    pass\n",
    "\n",
    "def create_ansatz(G):\n",
    "    ```\n",
    "    Summary: Create a function where it uses the values from G to create ansatz\n",
    "    ```\n",
    "    \n",
    "    pass\n",
    "\n",
    "\n",
    "\n",
    "# Define the optimizer that we'd like to use.\n",
    "optimizer = cudaq.optimizers.COBYLA()\n",
    "\n",
    "optimizer.initial_parameters = np.random.uniform(-np.pi / 8.0, np.pi / 8.0,\n",
    "                                                 parameter_count)\n",
    "\n",
    "def objective_function():\n",
    "    ```\n",
    "    Summary: create a custom objective function \n",
    "    #https://github.com/NVIDIA/cuda-quantum/blob/64df5b68b933776f93dca521bf2834a688c443e8/python/tests/unittests/test_state.py#L54\n",
    "    ```\n",
    "    return cost\n",
    "\n",
    "energy, parameter = optimizer.optimize(dimensions=1,\n",
    "                                       function=objective_function)\n",
    "\n",
    "print(f\"\\nminimized <H> = {round(energy,3)}\")\n",
    "print(f\"optimal theta = {round(parameter[0],3)}\")"
   ]
  }
 ],
 "metadata": {
  "kernelspec": {
   "display_name": "Python 3 (ipykernel)",
   "language": "python",
   "name": "python3"
  },
  "language_info": {
   "codemirror_mode": {
    "name": "ipython",
    "version": 3
   },
   "file_extension": ".py",
   "mimetype": "text/x-python",
   "name": "python",
   "nbconvert_exporter": "python",
   "pygments_lexer": "ipython3",
   "version": "3.10.6"
  }
 },
 "nbformat": 4,
 "nbformat_minor": 5
}
