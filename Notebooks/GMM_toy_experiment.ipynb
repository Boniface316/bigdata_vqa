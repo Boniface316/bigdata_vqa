{
 "cells": [
  {
   "cell_type": "code",
   "execution_count": null,
   "metadata": {},
   "outputs": [],
   "source": [
    "import os as os\n",
    "\n",
    "\n",
    "import pandas as pd\n",
    "from bigdatavqa.coreset import Coreset\n",
    "from bigdatavqa.k3meansclustering import K3MeansClusteringVQE, K3MeansClusteringRandom, K3MeansClusteringMaxCut, K3MeansClusteringKMeans\n",
    "from bigdatavqa.vqe_utils import get_VQE_circuit, get_K3_Hamiltonian\n",
    "from bigdatavqa.optimizer import get_optimizer_for_VQE\n",
    "import cudaq\n",
    "import matplotlib.pyplot as plt\n",
    "import warnings\n",
    "\n",
    "warnings.filterwarnings(\"ignore\")"
   ]
  },
  {
   "cell_type": "code",
   "execution_count": 8,
   "metadata": {},
   "outputs": [
    {
     "data": {
      "text/plain": [
       "<__main__.VQE at 0x787ea4c3c0d0>"
      ]
     },
     "execution_count": 8,
     "metadata": {},
     "output_type": "execute_result"
    }
   ],
   "source": [
    "qubits = 10\n",
    "number_of_qubits_representing_data_point = 2\n",
    "coreset_size = int(qubits / number_of_qubits_representing_data_point)\n",
    "circuit_depth = 1\n",
    "max_shots = 1000\n",
    "max_iterations = 100\n",
    "number_of_experiment_runs = 5\n",
    "number_of_corsets_to_evaluate = 15\n",
    "number_of_centroid_evaluation = 20"
   ]
  },
  {
   "cell_type": "code",
   "execution_count": null,
   "metadata": {},
   "outputs": [],
   "source": [
    "raw_data = Coreset.create_dataset(1000)\n",
    "raw_data_df = pd.DataFrame(raw_data, columns=list(\"XY\"))\n",
    "\n",
    "coreset = Coreset(\n",
    "    raw_data=raw_data,\n",
    "    number_of_sampling_for_centroids=10,\n",
    "    coreset_size=coreset_size,\n",
    "    number_of_coresets_to_evaluate=4,\n",
    "    coreset_method=\"BFL2\",\n",
    ")\n",
    "\n",
    "coreset_vectors, coreset_weights = coreset.get_best_coresets()\n",
    "\n",
    "coreset_df = pd.DataFrame(coreset_vectors, columns=list(\"XY\"))\n",
    "coreset_df[\"weights\"] = coreset_weights\n",
    "coreset_df[\"Name\"] = [chr(i + 65) for i in coreset_df.index]\n",
    "\n",
    "plt.scatter(raw_data_df[\"X\"], raw_data_df[\"Y\"], label=\"Raw Data\")\n",
    "plt.scatter(coreset_df[\"X\"], coreset_df[\"Y\"], label=\"Coreset\", marker=\"x\")\n",
    "plt.legend()\n",
    "plt.show()"
   ]
  }
 ],
 "metadata": {
  "kernelspec": {
   "display_name": "VQA",
   "language": "python",
   "name": "python3"
  },
  "language_info": {
   "codemirror_mode": {
    "name": "ipython",
    "version": 3
   },
   "file_extension": ".py",
   "mimetype": "text/x-python",
   "name": "python",
   "nbconvert_exporter": "python",
   "pygments_lexer": "ipython3",
   "version": "3.10.0"
  }
 },
 "nbformat": 4,
 "nbformat_minor": 2
}
