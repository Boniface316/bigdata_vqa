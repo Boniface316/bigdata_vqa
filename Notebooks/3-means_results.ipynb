{
 "cells": [
  {
   "cell_type": "markdown",
   "metadata": {},
   "source": [
    "## Results of the 3-means experiment"
   ]
  },
  {
   "cell_type": "code",
   "execution_count": 1,
   "metadata": {},
   "outputs": [],
   "source": [
    "import numpy as np \n",
    "import pandas as pd \n",
    "from sklearn.cluster import KMeans"
   ]
  },
  {
   "cell_type": "code",
   "execution_count": 2,
   "metadata": {},
   "outputs": [],
   "source": [
    "# Helper functions for computing cost\n",
    "def get_weighted_distance_between_two_vectors(vector1, vector2, weight):\n",
    "    return (weight * np.linalg.norm(vector1 - vector2))\n",
    "\n",
    "def get_distance_between_two_vectors(vector1, vector2):\n",
    "    return np.linalg.norm(vector1 - vector2)\n",
    "\n",
    "def get_k_means_cost(k, clusters, data):\n",
    "    accumulativeCost = 0\n",
    "    currentCosts = np.repeat(0,k)\n",
    "    for vector in data:\n",
    "        currentCosts = list(map(get_distance_between_two_vectors, clusters, np.repeat(vector, k, axis=0)))\n",
    "        accumulativeCost = accumulativeCost + min(currentCosts)\n",
    "                            \n",
    "    return accumulativeCost\n",
    "\n",
    "def get_weighted_k_means_cost(k, clusters, data, data_weights):\n",
    "    accumulativeCost = 0\n",
    "    currentCosts = np.repeat(0,k)\n",
    "    for vector in data:\n",
    "        currentCosts = list(map(get_weighted_distance_between_two_vectors, clusters, np.repeat(vector, k, axis=0), data_weights))\n",
    "        accumulativeCost = accumulativeCost + min(currentCosts)\n",
    "                            \n",
    "    return accumulativeCost"
   ]
  },
  {
   "cell_type": "code",
   "execution_count": 3,
   "metadata": {},
   "outputs": [],
   "source": [
    "# Load cluster centres and coreset data\n",
    "cluster_df = pd.read_pickle('../data/results/3means/3means_cluster_centers_12_coreset.pkl')\n",
    "coreset_df = pd.read_csv('../data/12_coreset.csv', encoding='ISO-8859-1')"
   ]
  },
  {
   "cell_type": "markdown",
   "metadata": {},
   "source": [
    "### Compute both the non-weighted and weighted costs on the coreset"
   ]
  },
  {
   "cell_type": "code",
   "execution_count": 4,
   "metadata": {},
   "outputs": [
    {
     "name": "stdout",
     "output_type": "stream",
     "text": [
      "Non-weighted cost: 46.43718493113637\n",
      "Weighted cost: 4824.608463984105\n"
     ]
    }
   ],
   "source": [
    "coreset_vectors = pd.DataFrame.to_numpy(coreset_df[['X', 'Y']])\n",
    "weight_vectors = pd.Series.to_numpy(coreset_df['weights'])\n",
    "cluster_vectors = pd.DataFrame.to_numpy(cluster_df)\n",
    "\n",
    "non_weighted_cost = get_k_means_cost(3, cluster_vectors, coreset_vectors)\n",
    "weighted_cost = get_weighted_k_means_cost(3, cluster_vectors, coreset_vectors, weight_vectors)\n",
    "\n",
    "print(\"Non-weighted cost:\", non_weighted_cost)\n",
    "print(\"Weighted cost:\", weighted_cost)"
   ]
  },
  {
   "cell_type": "markdown",
   "metadata": {},
   "source": [
    "### Scikit learn kmeans implementation for reference"
   ]
  },
  {
   "cell_type": "code",
   "execution_count": 5,
   "metadata": {},
   "outputs": [
    {
     "name": "stdout",
     "output_type": "stream",
     "text": [
      "Scikit learn unweighted cost: 41.266189742121156\n",
      "Scikit learn weighted cost: 3969.177233662033\n"
     ]
    },
    {
     "name": "stderr",
     "output_type": "stream",
     "text": [
      "/home/yogi/.pyenv/versions/3.9.0/envs/VQA/lib/python3.9/site-packages/sklearn/cluster/_kmeans.py:1416: FutureWarning: The default value of `n_init` will change from 10 to 'auto' in 1.4. Set the value of `n_init` explicitly to suppress the warning\n",
      "  super()._check_params_vs_input(X, default_n_init=10)\n",
      "/home/yogi/.pyenv/versions/3.9.0/envs/VQA/lib/python3.9/site-packages/sklearn/cluster/_kmeans.py:1416: FutureWarning: The default value of `n_init` will change from 10 to 'auto' in 1.4. Set the value of `n_init` explicitly to suppress the warning\n",
      "  super()._check_params_vs_input(X, default_n_init=10)\n"
     ]
    }
   ],
   "source": [
    "kmeans_unweighted = KMeans(init=\"k-means++\", n_clusters=3, random_state=0).fit(coreset_vectors)\n",
    "skl_unweighted_cost = get_k_means_cost(3, kmeans_unweighted.cluster_centers_, coreset_vectors)\n",
    "print('Scikit learn unweighted cost:', skl_unweighted_cost)\n",
    "\n",
    "kmeans_weighted = KMeans(init=\"k-means++\", n_clusters=3, random_state=0).fit(coreset_vectors, sample_weight=weight_vectors)\n",
    "skl_weighted_cost = get_weighted_k_means_cost(3, kmeans_weighted.cluster_centers_, coreset_vectors, weight_vectors)\n",
    "print('Scikit learn weighted cost:', skl_weighted_cost)"
   ]
  },
  {
   "cell_type": "markdown",
   "metadata": {},
   "source": [
    "### Random clustering for baseline"
   ]
  },
  {
   "cell_type": "code",
   "execution_count": 59,
   "metadata": {},
   "outputs": [
    {
     "name": "stdout",
     "output_type": "stream",
     "text": [
      "Random weighted cost: 5384.885410202575\n"
     ]
    },
    {
     "name": "stderr",
     "output_type": "stream",
     "text": [
      "/tmp/ipykernel_826180/3816079968.py:4: SettingWithCopyWarning: \n",
      "A value is trying to be set on a copy of a slice from a DataFrame.\n",
      "Try using .loc[row_indexer,col_indexer] = value instead\n",
      "\n",
      "See the caveats in the documentation: https://pandas.pydata.org/pandas-docs/stable/user_guide/indexing.html#returning-a-view-versus-a-copy\n",
      "  coreset_df_random['Label'] = labels\n"
     ]
    }
   ],
   "source": [
    "# Randomly assign labels to coreset_vectors\n",
    "labels = np.random.choice([0, 1, 2], size=len(coreset_vectors))\n",
    "coreset_df_random = coreset_df[['X', 'Y']]\n",
    "coreset_df_random['Label'] = labels\n",
    "\n",
    "label_means = coreset_df_random.groupby('Label').mean()\n",
    "centers = label_means.to_numpy()\n",
    "\n",
    "\n",
    "random_weight = get_weighted_k_means_cost(3, centers, coreset_vectors, weight_vectors)\n",
    "print('Random weighted cost:', random_weight)"
   ]
  }
 ],
 "metadata": {
  "kernelspec": {
   "display_name": "Python 3 (ipykernel)",
   "language": "python",
   "name": "python3"
  },
  "language_info": {
   "codemirror_mode": {
    "name": "ipython",
    "version": 3
   },
   "file_extension": ".py",
   "mimetype": "text/x-python",
   "name": "python",
   "nbconvert_exporter": "python",
   "pygments_lexer": "ipython3",
   "version": "3.9.0"
  },
  "vscode": {
   "interpreter": {
    "hash": "aee8b7b246df8f9039afb4144a1f6fd8d2ca17a180786b69acc140d282b71a49"
   }
  }
 },
 "nbformat": 4,
 "nbformat_minor": 4
}
