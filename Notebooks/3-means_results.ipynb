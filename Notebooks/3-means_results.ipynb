{
 "cells": [
  {
   "cell_type": "markdown",
   "metadata": {},
   "source": [
    "## Results of the 3-means experiment"
   ]
  },
  {
   "cell_type": "code",
   "execution_count": 24,
   "metadata": {},
   "outputs": [],
   "source": [
    "import numpy as np \n",
    "import pandas as pd \n",
    "from sklearn.cluster import KMeans\n",
    "from bigdatavqa.postexecution import get_k_means_accumulative_cost\n",
    "import random\n",
    "import matplotlib.pyplot as plt"
   ]
  },
  {
   "cell_type": "code",
   "execution_count": 39,
   "metadata": {},
   "outputs": [],
   "source": [
    "# Load cluster centres and coreset data\n",
    "cluster_df = pd.read_pickle('../paper_results/data/3means/3means_cluster_centers_12_coreset.pkl')\n",
    "coreset_df = pd.read_csv('../data/12_coreset.csv', encoding='ISO-8859-1')"
   ]
  },
  {
   "cell_type": "markdown",
   "metadata": {},
   "source": [
    "### VQE costs"
   ]
  },
  {
   "cell_type": "code",
   "execution_count": 40,
   "metadata": {},
   "outputs": [
    {
     "name": "stdout",
     "output_type": "stream",
     "text": [
      "Non-weighted cost: 46.43718493113637\n",
      "Weighted cost: 4824.608463984105\n"
     ]
    }
   ],
   "source": [
    "coreset_vectors = pd.DataFrame.to_numpy(coreset_df[['X', 'Y']])\n",
    "weight_vectors = pd.Series.to_numpy(coreset_df['weights'])\n",
    "cluster_vectors = pd.DataFrame.to_numpy(cluster_df)\n",
    "\n",
    "non_weighted_cost = get_k_means_accumulative_cost(3, cluster_vectors, coreset_vectors)\n",
    "weighted_cost = get_k_means_accumulative_cost(3, cluster_vectors, coreset_vectors, weight_vectors)\n",
    "\n",
    "VQE_cost_value = weighted_cost"
   ]
  },
  {
   "cell_type": "markdown",
   "metadata": {},
   "source": [
    "### Kmeans costs"
   ]
  },
  {
   "cell_type": "code",
   "execution_count": 12,
   "metadata": {},
   "outputs": [
    {
     "name": "stdout",
     "output_type": "stream",
     "text": [
      "Scikit learn unweighted cost: 41.266189742121156\n",
      "Scikit learn weighted cost: 4200.602651251721\n"
     ]
    },
    {
     "name": "stderr",
     "output_type": "stream",
     "text": [
      "/home/yogi/.pyenv/versions/3.9.0/envs/VQA2/lib/python3.9/site-packages/sklearn/cluster/_kmeans.py:870: FutureWarning: The default value of `n_init` will change from 10 to 'auto' in 1.4. Set the value of `n_init` explicitly to suppress the warning\n",
      "  warnings.warn(\n",
      "/home/yogi/.pyenv/versions/3.9.0/envs/VQA2/lib/python3.9/site-packages/sklearn/cluster/_kmeans.py:870: FutureWarning: The default value of `n_init` will change from 10 to 'auto' in 1.4. Set the value of `n_init` explicitly to suppress the warning\n",
      "  warnings.warn(\n"
     ]
    }
   ],
   "source": [
    "kmeans_unweighted = KMeans(init=\"k-means++\", n_clusters=3, random_state=0).fit(coreset_vectors)\n",
    "skl_unweighted_cost = get_k_means_accumulative_cost(3, kmeans_unweighted.cluster_centers_, coreset_vectors)\n",
    "print('Scikit learn unweighted cost:', skl_unweighted_cost)\n",
    "\n",
    "kmeans_weighted = KMeans(init=\"k-means++\", n_clusters=3, random_state=0).fit(coreset_vectors, sample_weight=weight_vectors)\n",
    "skl_weighted_cost = get_k_means_accumulative_cost(3, kmeans_weighted.cluster_centers_, coreset_vectors, weight_vectors)\n",
    "print('Scikit learn weighted cost:', skl_weighted_cost)\n",
    "\n",
    "kmeans_cost_value = skl_weighted_cost"
   ]
  },
  {
   "cell_type": "markdown",
   "metadata": {},
   "source": [
    "### Brute force costs"
   ]
  },
  {
   "cell_type": "code",
   "execution_count": 14,
   "metadata": {},
   "outputs": [],
   "source": [
    "# Load the 3-partitions of a set of 12\n",
    "partitions = pd.read_csv('../paper_results/data/3means/3-partitions_maxcut.txt', header=None)\n",
    "partitions_array = pd.DataFrame(partitions.values.reshape(-1, 3), columns=['S1', 'S2', 'S3']).to_numpy()\n",
    "data = [list(map(lambda x: x.split(\" \"), y)) for y in partitions_array]"
   ]
  },
  {
   "cell_type": "code",
   "execution_count": 16,
   "metadata": {},
   "outputs": [],
   "source": [
    "# Helper function\n",
    "def brute_force_cost(coreset, weights, partition):\n",
    "    coreset_partition = [[], [], []]\n",
    "    weight_partition = [[], [], []]\n",
    "    cluster_centres = np.empty((len(partition), 2))\n",
    "    for i, subset in enumerate(partition):\n",
    "        for index in subset:\n",
    "            coreset_partition[i].append(coreset[int(index) - 1])\n",
    "            weight_partition[i].append(weights[int(index) - 1])\n",
    "\n",
    "\n",
    "    for i in range(len(partition)):\n",
    "         cluster_centres[i] = np.average(coreset_partition[i], axis=0, weights=weight_partition[i])\n",
    "        \n",
    "    \n",
    "    return get_k_means_accumulative_cost(3, cluster_centres, coreset, weights)\n",
    "\n",
    "lowest_cost = np.inf\n",
    "for partition in data:\n",
    "    current_cost = brute_force_cost(coreset_vectors, weight_vectors, partition)\n",
    "    if current_cost < lowest_cost:\n",
    "        lowest_cost = current_cost\n",
    "\n",
    "print(lowest_cost)\n",
    "\n",
    "brute_force_cost_value = lowest_cost"
   ]
  },
  {
   "cell_type": "markdown",
   "metadata": {},
   "source": [
    "### Random cluster costs"
   ]
  },
  {
   "cell_type": "code",
   "execution_count": 35,
   "metadata": {},
   "outputs": [],
   "source": [
    "def get_random_cluster_centers(\n",
    "    coreset_vectors,\n",
    "    coreset_weights,\n",
    "    cluster_size\n",
    "):\n",
    "    s1, s2, s3 = [], [], []\n",
    "    for i in range(len(coreset_vectors)):\n",
    "        set = random.randint(0, 2)\n",
    "        if set == 0:\n",
    "            s1.append(i)\n",
    "        elif set == 1:\n",
    "            s2.append(i)\n",
    "        else:\n",
    "            s3.append(i)\n",
    "\n",
    "    partition = [s1, s2, s3]\n",
    "\n",
    "\n",
    "    clusters_centers = np.array([np.zeros(cluster_size)] * 3)\n",
    "\n",
    "    W = np.sum(coreset_weights) / 3\n",
    "    # Compute cluster centres\n",
    "\n",
    "    for i in range(len(partition)):\n",
    "        for vertex in partition[i]:\n",
    "            weight = coreset_weights[int(vertex / 2)] * coreset_vectors[int(vertex / 2)]\n",
    "            clusters_centers[i] += weight * (1 / W)\n",
    "\n",
    "    return clusters_centers\n",
    "\n",
    "random_cluster_centers = get_random_cluster_centers(coreset_vectors, weight_vectors, 2)\n",
    "random_cluster_cost_value = get_k_means_accumulative_cost(3, random_cluster_centers, coreset_vectors, weight_vectors)"
   ]
  },
  {
   "cell_type": "code",
   "execution_count": 49,
   "metadata": {},
   "outputs": [
    {
     "data": {
      "image/png": "[encoded data removed]",
      "text/plain": [
       "<Figure size 640x480 with 1 Axes>"
      ]
     },
     "metadata": {},
     "output_type": "display_data"
    }
   ],
   "source": [
    "# Define the cost values\n",
    "cost_values = [random_cluster_cost_value, VQE_cost_value, kmeans_cost_value, brute_force_cost_value]\n",
    "\n",
    "# Define the labels for the x-axis\n",
    "labels = ['Random Cluster','VQE', 'K-means', 'Brute Force']\n",
    "\n",
    "# Create the bar chart\n",
    "plt.bar(labels, cost_values)\n",
    "\n",
    "# Add labels and title\n",
    "plt.xlabel('Method')\n",
    "plt.ylabel('Cost Value')\n",
    "plt.title('Cost Values Comparison (Lower is better)')\n",
    "\n",
    "# Display the chart\n",
    "plt.show()\n"
   ]
  }
 ],
 "metadata": {
  "kernelspec": {
   "display_name": "Python 3 (ipykernel)",
   "language": "python",
   "name": "python3"
  },
  "language_info": {
   "codemirror_mode": {
    "name": "ipython",
    "version": 3
   },
   "file_extension": ".py",
   "mimetype": "text/x-python",
   "name": "python",
   "nbconvert_exporter": "python",
   "pygments_lexer": "ipython3",
   "version": "3.9.0"
  },
  "vscode": {
   "interpreter": {
    "hash": "aee8b7b246df8f9039afb4144a1f6fd8d2ca17a180786b69acc140d282b71a49"
   }
  }
 },
 "nbformat": 4,
 "nbformat_minor": 4
}
