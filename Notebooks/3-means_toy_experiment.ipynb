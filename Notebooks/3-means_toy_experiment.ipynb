{
 "cells": [
  {
   "cell_type": "code",
   "execution_count": 1,
   "metadata": {},
   "outputs": [],
   "source": [
    "import os as os\n",
    "\n",
    "import numpy as np\n",
    "\n",
    "import pandas as pd\n",
    "from bigdatavqa.coreset import Coreset\n",
    "from bigdatavqa.k3meansclustering import K3MeansClusteringVQE, K3MeansClusteringRandom\n",
    "from bigdatavqa.vqe_utils import get_VQE_circuit, get_K3_Hamiltonian\n",
    "from bigdatavqa.optimizer import get_optimizer_for_VQE\n",
    "import cudaq\n",
    "import matplotlib.pyplot as plt"
   ]
  },
  {
   "cell_type": "code",
   "execution_count": 2,
   "metadata": {},
   "outputs": [],
   "source": [
    "qubits = 10\n",
    "coreset_size = int(qubits / 2)\n",
    "circuit_depth = 1\n",
    "max_shots = 1000\n",
    "max_iterations = 100\n",
    "number_of_experiment_runs = 5\n",
    "number_of_corsets_to_evaluate = 15\n",
    "number_of_centroid_evaluation = 20"
   ]
  },
  {
   "cell_type": "code",
   "execution_count": 3,
   "metadata": {},
   "outputs": [
    {
     "name": "stdout",
     "output_type": "stream",
     "text": [
      "Using BFL2 method to generate coresets\n"
     ]
    },
    {
     "name": "stderr",
     "output_type": "stream",
     "text": [
      "/home/yogi/.pyenv/versions/3.10.0/envs/VQA/lib/python3.10/site-packages/sklearn/cluster/_kmeans.py:870: FutureWarning: The default value of `n_init` will change from 10 to 'auto' in 1.4. Set the value of `n_init` explicitly to suppress the warning\n",
      "  warnings.warn(\n",
      "/home/yogi/.pyenv/versions/3.10.0/envs/VQA/lib/python3.10/site-packages/sklearn/cluster/_kmeans.py:870: FutureWarning: The default value of `n_init` will change from 10 to 'auto' in 1.4. Set the value of `n_init` explicitly to suppress the warning\n",
      "  warnings.warn(\n",
      "/home/yogi/.pyenv/versions/3.10.0/envs/VQA/lib/python3.10/site-packages/sklearn/cluster/_kmeans.py:870: FutureWarning: The default value of `n_init` will change from 10 to 'auto' in 1.4. Set the value of `n_init` explicitly to suppress the warning\n",
      "  warnings.warn(\n",
      "/home/yogi/.pyenv/versions/3.10.0/envs/VQA/lib/python3.10/site-packages/sklearn/cluster/_kmeans.py:870: FutureWarning: The default value of `n_init` will change from 10 to 'auto' in 1.4. Set the value of `n_init` explicitly to suppress the warning\n",
      "  warnings.warn(\n"
     ]
    }
   ],
   "source": [
    "raw_data = Coreset.create_dataset(1000)\n",
    "\n",
    "coreset = Coreset(\n",
    "    raw_data=raw_data,\n",
    "    number_of_sampling_for_centroids=10,\n",
    "    coreset_size=10,\n",
    "    number_of_coresets_to_evaluate=4,\n",
    "    coreset_method=\"BFL2\",\n",
    ")\n",
    "\n",
    "coreset_vectors, coreset_weights = coreset.get_best_coresets()\n",
    "\n",
    "coreset_df = pd.DataFrame(coreset_vectors, columns=list(\"XY\"))\n",
    "coreset_df[\"weights\"] = coreset_weights\n",
    "coreset_df[\"Name\"] = [chr(i + 65) for i in coreset_df.index]"
   ]
  },
  {
   "cell_type": "code",
   "execution_count": 4,
   "metadata": {},
   "outputs": [
    {
     "ename": "RuntimeError",
     "evalue": "NLOpt runtime error: nlopt failure",
     "output_type": "error",
     "traceback": [
      "\u001b[0;31m---------------------------------------------------------------------------\u001b[0m",
      "\u001b[0;31mRuntimeError\u001b[0m                              Traceback (most recent call last)",
      "Cell \u001b[0;32mIn[4], line 15\u001b[0m\n\u001b[1;32m      1\u001b[0m optimizer \u001b[38;5;241m=\u001b[39m cudaq\u001b[38;5;241m.\u001b[39moptimizers\u001b[38;5;241m.\u001b[39mCOBYLA()\n\u001b[1;32m      3\u001b[0m k3meansVQE \u001b[38;5;241m=\u001b[39m K3MeansClusteringVQE(\n\u001b[1;32m      4\u001b[0m         create_circuit\u001b[38;5;241m=\u001b[39mget_VQE_circuit,\n\u001b[1;32m      5\u001b[0m         circuit_depth\u001b[38;5;241m=\u001b[39m\u001b[38;5;241m1\u001b[39m,\n\u001b[0;32m   (...)\u001b[0m\n\u001b[1;32m     12\u001b[0m         max_shots\u001b[38;5;241m=\u001b[39mmax_shots,\n\u001b[1;32m     13\u001b[0m     )\n\u001b[0;32m---> 15\u001b[0m centers \u001b[38;5;241m=\u001b[39m \u001b[43mk3meansVQE\u001b[49m\u001b[38;5;241;43m.\u001b[39;49m\u001b[43mget_cluster_centers\u001b[49m\u001b[43m(\u001b[49m\n\u001b[1;32m     16\u001b[0m \u001b[43m    \u001b[49m\u001b[43mcoreset_df\u001b[49m\u001b[38;5;241;43m=\u001b[39;49m\u001b[43mcoreset_df\u001b[49m\u001b[43m,\u001b[49m\u001b[43m \u001b[49m\u001b[43mvector_columns\u001b[49m\u001b[38;5;241;43m=\u001b[39;49m\u001b[43m[\u001b[49m\u001b[38;5;124;43m\"\u001b[39;49m\u001b[38;5;124;43mX\u001b[39;49m\u001b[38;5;124;43m\"\u001b[39;49m\u001b[43m,\u001b[49m\u001b[43m \u001b[49m\u001b[38;5;124;43m\"\u001b[39;49m\u001b[38;5;124;43mY\u001b[39;49m\u001b[38;5;124;43m\"\u001b[39;49m\u001b[43m]\u001b[49m\u001b[43m,\u001b[49m\u001b[43m \u001b[49m\u001b[43mweight_columns\u001b[49m\u001b[38;5;241;43m=\u001b[39;49m\u001b[38;5;124;43m\"\u001b[39;49m\u001b[38;5;124;43mweights\u001b[39;49m\u001b[38;5;124;43m\"\u001b[39;49m\n\u001b[1;32m     17\u001b[0m \u001b[43m)\u001b[49m\n",
      "File \u001b[0;32m~/Projects/experiments/bigdata_vqa/src/bigdatavqa/k3meansclustering/_k3meansclustering.py:112\u001b[0m, in \u001b[0;36mK3MeansClusteringVQE.get_cluster_centers\u001b[0;34m(self, coreset_df, vector_columns, weight_columns)\u001b[0m\n\u001b[1;32m    101\u001b[0m coreset_vectors, coreset_weights \u001b[38;5;241m=\u001b[39m \u001b[38;5;28mself\u001b[39m\u001b[38;5;241m.\u001b[39mpreprocess_data(\n\u001b[1;32m    102\u001b[0m     coreset_df, vector_columns, weight_columns, \u001b[38;5;28mself\u001b[39m\u001b[38;5;241m.\u001b[39mnormalize_vectors\n\u001b[1;32m    103\u001b[0m )\n\u001b[1;32m    105\u001b[0m coreset_graph \u001b[38;5;241m=\u001b[39m Coreset\u001b[38;5;241m.\u001b[39mcoreset_to_graph(\n\u001b[1;32m    106\u001b[0m     coreset_vectors,\n\u001b[1;32m    107\u001b[0m     coreset_weights,\n\u001b[1;32m    108\u001b[0m     \u001b[38;5;28mself\u001b[39m\u001b[38;5;241m.\u001b[39mcoreset_to_graph_metric,\n\u001b[1;32m    109\u001b[0m     \u001b[38;5;28mself\u001b[39m\u001b[38;5;241m.\u001b[39mnumber_of_qubits_representing_data,\n\u001b[1;32m    110\u001b[0m )\n\u001b[0;32m--> 112\u001b[0m partition \u001b[38;5;241m=\u001b[39m \u001b[38;5;28;43mself\u001b[39;49m\u001b[38;5;241;43m.\u001b[39;49m\u001b[43mget_partition\u001b[49m\u001b[43m(\u001b[49m\u001b[43mcoreset_graph\u001b[49m\u001b[43m)\u001b[49m\n\u001b[1;32m    114\u001b[0m \u001b[38;5;28;01mreturn\u001b[39;00m \u001b[38;5;28mself\u001b[39m\u001b[38;5;241m.\u001b[39mget_cluster_centers_from_partition(\n\u001b[1;32m    115\u001b[0m     partition, coreset_df, vector_columns, weight_columns\n\u001b[1;32m    116\u001b[0m )\n",
      "File \u001b[0;32m~/Projects/experiments/bigdata_vqa/src/bigdatavqa/k3meansclustering/_k3meansclustering.py:155\u001b[0m, in \u001b[0;36mK3MeansClusteringVQE.get_partition\u001b[0;34m(self, coreset_graph)\u001b[0m\n\u001b[1;32m    154\u001b[0m \u001b[38;5;28;01mdef\u001b[39;00m \u001b[38;5;21mget_partition\u001b[39m(\u001b[38;5;28mself\u001b[39m, coreset_graph):\n\u001b[0;32m--> 155\u001b[0m     state \u001b[38;5;241m=\u001b[39m \u001b[38;5;28;43mself\u001b[39;49m\u001b[38;5;241;43m.\u001b[39;49m\u001b[43mget_optimal_bitstring\u001b[49m\u001b[43m(\u001b[49m\u001b[43mcoreset_graph\u001b[49m\u001b[43m)\u001b[49m\n\u001b[1;32m    156\u001b[0m     s1, s2, s3 \u001b[38;5;241m=\u001b[39m [], [], []\n\u001b[1;32m    158\u001b[0m     vertices \u001b[38;5;241m=\u001b[39m \u001b[38;5;28mlist\u001b[39m(coreset_graph\u001b[38;5;241m.\u001b[39mnodes)\n",
      "File \u001b[0;32m~/Projects/experiments/bigdata_vqa/src/bigdatavqa/k3meansclustering/_k3meansclustering.py:144\u001b[0m, in \u001b[0;36mK3MeansClusteringVQE.get_optimal_bitstring\u001b[0;34m(self, coreset_graph)\u001b[0m\n\u001b[1;32m    140\u001b[0m     cost \u001b[38;5;241m=\u001b[39m get_result(parameter_vector)\n\u001b[1;32m    142\u001b[0m     \u001b[38;5;28;01mreturn\u001b[39;00m cost\n\u001b[0;32m--> 144\u001b[0m energy, optimal_parameters \u001b[38;5;241m=\u001b[39m \u001b[43moptimizer\u001b[49m\u001b[38;5;241;43m.\u001b[39;49m\u001b[43moptimize\u001b[49m\u001b[43m(\u001b[49m\n\u001b[1;32m    145\u001b[0m \u001b[43m    \u001b[49m\u001b[43mdimensions\u001b[49m\u001b[38;5;241;43m=\u001b[39;49m\u001b[43mparameter_count\u001b[49m\u001b[43m,\u001b[49m\u001b[43m \u001b[49m\u001b[43mfunction\u001b[49m\u001b[38;5;241;43m=\u001b[39;49m\u001b[43mobjective_function\u001b[49m\n\u001b[1;32m    146\u001b[0m \u001b[43m\u001b[49m\u001b[43m)\u001b[49m\n\u001b[1;32m    148\u001b[0m counts \u001b[38;5;241m=\u001b[39m cudaq\u001b[38;5;241m.\u001b[39msample(\n\u001b[1;32m    149\u001b[0m     kernel, optimal_parameters, qubits, circuit_depth, shots_count\u001b[38;5;241m=\u001b[39mmax_shots\n\u001b[1;32m    150\u001b[0m )\n\u001b[1;32m    152\u001b[0m \u001b[38;5;28;01mreturn\u001b[39;00m counts\u001b[38;5;241m.\u001b[39mmost_probable()\n",
      "\u001b[0;31mRuntimeError\u001b[0m: NLOpt runtime error: nlopt failure"
     ]
    }
   ],
   "source": [
    "optimizer = cudaq.optimizers.COBYLA()\n",
    "\n",
    "k3meansVQE = K3MeansClusteringVQE(\n",
    "        create_circuit=get_VQE_circuit,\n",
    "        circuit_depth=1,\n",
    "        optimizer_function=get_optimizer_for_VQE,\n",
    "        optimizer=optimizer,\n",
    "        create_Hamiltonian=get_K3_Hamiltonian,\n",
    "        number_of_qubits_representing_data=2,\n",
    "        normalize_vectors=True,\n",
    "        max_iterations=max_iterations,\n",
    "        max_shots=max_shots,\n",
    "    )\n",
    "\n",
    "centers = k3meansVQE.get_cluster_centers(\n",
    "    coreset_df=coreset_df, vector_columns=[\"X\", \"Y\"], weight_columns=\"weights\"\n",
    ")\n",
    "\n",
    "\n",
    "VQE_cost_value = k3meansVQE.get_3means_cost(\n",
    "    raw_data, centers\n",
    ")\n",
    "\n",
    "\n",
    "print(f\"VQE cost value: {VQE_cost_value}\")"
   ]
  },
  {
   "cell_type": "code",
   "execution_count": null,
   "metadata": {},
   "outputs": [
    {
     "data": {
      "image/png": "[encoded data removed]",
      "text/plain": [
       "<Figure size 640x480 with 1 Axes>"
      ]
     },
     "metadata": {},
     "output_type": "display_data"
    }
   ],
   "source": [
    "df = pd.DataFrame(\n",
    "        {\"X\": coreset_vectors[:, 0], \"Y\": coreset_vectors[:, 1], \"Weights\": coreset_weights}\n",
    "    )\n",
    "plt.scatter(df[\"X\"], df[\"Y\"], s=df[\"Weights\"], label=\"Coreset\", color=\"r\")\n",
    "plt.scatter(centers[:, 0], centers[:, 1], label=\"Centers\", alpha=0.5, color=\"b\", marker=\"+\")\n",
    "plt.xlabel(\"X\")\n",
    "plt.ylabel(\"Y\")\n",
    "plt.title(\"Raw data and its best coreset using BFL16\")\n",
    "plt.legend()\n",
    "plt.show()"
   ]
  },
  {
   "cell_type": "markdown",
   "metadata": {},
   "source": [
    "## Random clustering"
   ]
  },
  {
   "cell_type": "code",
   "execution_count": null,
   "metadata": {},
   "outputs": [],
   "source": [
    "K3MeansRandom = K3MeansClusteringRandom()\n",
    "centers = K3MeansRandom.get_cluster_centers(\n",
    "    coreset_df=coreset_df, vector_columns=[\"X\", \"Y\"], weight_columns=\"weights\"\n",
    ")\n",
    "\n",
    "Random_cost = K3MeansRandom.get_3means_cost(raw_data, centers)\n"
   ]
  },
  {
   "cell_type": "markdown",
   "metadata": {},
   "source": [
    "# Analyzing results"
   ]
  },
  {
   "cell_type": "code",
   "execution_count": null,
   "metadata": {},
   "outputs": [],
   "source": [
    "# Define the cost values\n",
    "cost_values = [random_cluster_cost_value, VQE_cost_value, kmeans_cost_value, brute_force_cost_value]\n",
    "\n",
    "# Define the labels for the x-axis\n",
    "labels = ['Random Cluster','VQE', 'K-means', 'Brute Force']\n",
    "\n",
    "# Create the bar chart\n",
    "plt.bar(labels, cost_values)\n",
    "\n",
    "# Add labels and title\n",
    "plt.xlabel('Method')\n",
    "plt.ylabel('Cost Value')\n",
    "plt.title('Cost Values Comparison (Lower is better)')\n",
    "\n",
    "# Display the chart\n",
    "plt.show()"
   ]
  }
 ],
 "metadata": {
  "kernelspec": {
   "display_name": "VQA",
   "language": "python",
   "name": "python3"
  },
  "language_info": {
   "codemirror_mode": {
    "name": "ipython",
    "version": 3
   },
   "file_extension": ".py",
   "mimetype": "text/x-python",
   "name": "python",
   "nbconvert_exporter": "python",
   "pygments_lexer": "ipython3",
   "version": "3.10.0"
  }
 },
 "nbformat": 4,
 "nbformat_minor": 2
}
