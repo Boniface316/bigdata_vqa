{
 "cells": [
  {
   "cell_type": "code",
   "execution_count": 1,
   "id": "68793aa6-7d25-45f0-a991-bb65b7158b0b",
   "metadata": {},
   "outputs": [
    {
     "name": "stderr",
     "output_type": "stream",
     "text": [
      "/tmp/ipykernel_6980/2119346348.py:3: DeprecationWarning: The ``qiskit.opflow`` module is deprecated as of qiskit-terra 0.24.0. It will be removed no earlier than 3 months after the release date. For code migration guidelines, visit https://qisk.it/opflow_migration.\n",
      "  from qiskit.opflow.primitive_ops import PauliSumOp\n"
     ]
    }
   ],
   "source": [
    "from bigdatavqa.datautils import DataUtils\n",
    "from bigdatavqa.coreset import Coreset, normalize_np\n",
    "from qiskit.opflow.primitive_ops import PauliSumOp\n",
    "from numpy.linalg import inv\n",
    "import numpy as np\n",
    "from cudaq import spin"
   ]
  },
  {
   "cell_type": "code",
   "execution_count": 2,
   "id": "edabfdd1-db4f-47de-8ce9-c34eef345771",
   "metadata": {},
   "outputs": [],
   "source": [
    "number_of_qubits = 5\n",
    "circuit_depth = 1\n",
    "max_shots = 100\n",
    "max_iterations = 100\n",
    "\n",
    "max_iterations = 100\n",
    "number_of_runs = 100\n",
    "size_vec_list = 10\n"
   ]
  },
  {
   "cell_type": "code",
   "execution_count": 3,
   "id": "d1c27af0-33e8-4e7e-a7d7-e1bb01614d75",
   "metadata": {},
   "outputs": [],
   "source": [
    "def get_raw_data(data_location):\n",
    "    data_utils = DataUtils(data_location)\n",
    "\n",
    "    try:\n",
    "        raw_data = data_utils.load_dataset()\n",
    "    except FileNotFoundError:\n",
    "        raw_data = data_utils.create_dataset(n_samples=1000)\n",
    "\n",
    "    return raw_data"
   ]
  },
  {
   "cell_type": "code",
   "execution_count": 4,
   "id": "b27aefe7-b59d-4f0c-b9be-e9beabddb65b",
   "metadata": {},
   "outputs": [
    {
     "name": "stdout",
     "output_type": "stream",
     "text": [
      "Data saved in data/data.pickle\n"
     ]
    }
   ],
   "source": [
    "raw_data = get_raw_data(\"data\")"
   ]
  },
  {
   "cell_type": "code",
   "execution_count": 5,
   "id": "0eeb369d-f7f4-47c6-9b75-c87534732bd0",
   "metadata": {},
   "outputs": [
    {
     "name": "stderr",
     "output_type": "stream",
     "text": [
      "/usr/local/lib/python3.10/dist-packages/sklearn/cluster/_kmeans.py:870: FutureWarning: The default value of `n_init` will change from 10 to 'auto' in 1.4. Set the value of `n_init` explicitly to suppress the warning\n",
      "  warnings.warn(\n",
      "/usr/local/lib/python3.10/dist-packages/sklearn/cluster/_kmeans.py:870: FutureWarning: The default value of `n_init` will change from 10 to 'auto' in 1.4. Set the value of `n_init` explicitly to suppress the warning\n",
      "  warnings.warn(\n",
      "/usr/local/lib/python3.10/dist-packages/sklearn/cluster/_kmeans.py:870: FutureWarning: The default value of `n_init` will change from 10 to 'auto' in 1.4. Set the value of `n_init` explicitly to suppress the warning\n",
      "  warnings.warn(\n",
      "/usr/local/lib/python3.10/dist-packages/sklearn/cluster/_kmeans.py:870: FutureWarning: The default value of `n_init` will change from 10 to 'auto' in 1.4. Set the value of `n_init` explicitly to suppress the warning\n",
      "  warnings.warn(\n",
      "/usr/local/lib/python3.10/dist-packages/sklearn/cluster/_kmeans.py:870: FutureWarning: The default value of `n_init` will change from 10 to 'auto' in 1.4. Set the value of `n_init` explicitly to suppress the warning\n",
      "  warnings.warn(\n",
      "/usr/local/lib/python3.10/dist-packages/sklearn/cluster/_kmeans.py:870: FutureWarning: The default value of `n_init` will change from 10 to 'auto' in 1.4. Set the value of `n_init` explicitly to suppress the warning\n",
      "  warnings.warn(\n",
      "/usr/local/lib/python3.10/dist-packages/sklearn/cluster/_kmeans.py:870: FutureWarning: The default value of `n_init` will change from 10 to 'auto' in 1.4. Set the value of `n_init` explicitly to suppress the warning\n",
      "  warnings.warn(\n",
      "/usr/local/lib/python3.10/dist-packages/sklearn/cluster/_kmeans.py:870: FutureWarning: The default value of `n_init` will change from 10 to 'auto' in 1.4. Set the value of `n_init` explicitly to suppress the warning\n",
      "  warnings.warn(\n",
      "/usr/local/lib/python3.10/dist-packages/sklearn/cluster/_kmeans.py:870: FutureWarning: The default value of `n_init` will change from 10 to 'auto' in 1.4. Set the value of `n_init` explicitly to suppress the warning\n",
      "  warnings.warn(\n",
      "/usr/local/lib/python3.10/dist-packages/sklearn/cluster/_kmeans.py:870: FutureWarning: The default value of `n_init` will change from 10 to 'auto' in 1.4. Set the value of `n_init` explicitly to suppress the warning\n",
      "  warnings.warn(\n"
     ]
    }
   ],
   "source": [
    "coreset = Coreset()\n",
    "\n",
    "coreset_vectors, coreset_weights = coreset.get_best_coresets(\n",
    "    data_vectors=raw_data,\n",
    "    number_of_runs=number_of_runs,\n",
    "    coreset_numbers=number_of_qubits,\n",
    "    size_vec_list=size_vec_list,\n",
    ")"
   ]
  },
  {
   "cell_type": "code",
   "execution_count": 6,
   "id": "8c7b85f0-322f-483f-b018-f8cb26299642",
   "metadata": {},
   "outputs": [],
   "source": [
    "coreset_vectors = normalize_np(coreset_vectors, centralize = True)\n",
    "coreset_weights = normalize_np(coreset_weights, centralize = True)"
   ]
  },
  {
   "cell_type": "code",
   "execution_count": 7,
   "id": "118ad490-55f6-48dd-8104-ce44a6cc30e9",
   "metadata": {},
   "outputs": [
    {
     "data": {
      "text/plain": [
       "array([[-0.19952738, -0.23312016],\n",
       "       [-0.25687376,  0.13669904],\n",
       "       [ 1.        ,  0.40811781],\n",
       "       [-0.10877243, -1.        ],\n",
       "       [-0.43482643,  0.6883033 ]])"
      ]
     },
     "execution_count": 7,
     "metadata": {},
     "output_type": "execute_result"
    }
   ],
   "source": [
    "coreset_vectors"
   ]
  },
  {
   "cell_type": "code",
   "execution_count": 8,
   "id": "14a9c9d0-216d-4415-b10a-a235caa94a48",
   "metadata": {},
   "outputs": [],
   "source": [
    "# helper functions\n",
    "def get_mean(coreset):\n",
    "    dim = len(coreset[0])\n",
    "    size_coreset = len(coreset)\n",
    "    mu = np.zeros(dim)\n",
    "    for i in range(size_coreset):\n",
    "        mu += coreset[i]\n",
    "    return mu/size_coreset\n",
    "    \n",
    "def get_weighted_mean(coreset, weights):\n",
    "    dim = len(coreset[0])\n",
    "    size_coreset = len(coreset)\n",
    "    mu = np.zeros(dim)\n",
    "    for i in range(size_coreset):\n",
    "        mu += coreset[i]*weights[i]\n",
    "    return mu/sum(weights)\n",
    "\n",
    "def get_scatter_matrix(coreset):\n",
    "    dim = len(coreset[0])\n",
    "    size_coreset = len(coreset)\n",
    "    T = np.zeros((dim,dim))\n",
    "    mu = get_mean(coreset)\n",
    "    for i in range(size_coreset):\n",
    "        T += np.outer((coreset[i] - mu),(coreset[i] - mu))\n",
    "    return T\n",
    "    \n",
    "def get_weighted_scatter_matrix(coreset, weights):\n",
    "    dim = len(coreset[0])\n",
    "    size_coreset = len(coreset)\n",
    "    T = np.zeros((dim,dim))\n",
    "    mu = get_weighted_mean(coreset, weights)\n",
    "    for i in range(size_coreset):\n",
    "        T += weights[i]*np.outer((coreset[i] - mu),(coreset[i] - mu))\n",
    "    return T\n",
    "\n",
    "def get_matrix_inverse(matrix):\n",
    "    return inv(matrix)"
   ]
  },
  {
   "cell_type": "code",
   "execution_count": 9,
   "id": "82ceca94-4df0-4a31-9071-ec15ea0e2c6e",
   "metadata": {},
   "outputs": [],
   "source": [
    "def Z_i(i, length):\n",
    "    \"\"\" \n",
    "    if index i is in the range 0, ..., length-1, the function returns the operator Z_i\n",
    "    else: the funtion returns the pauli string consisting of pauli I's only\n",
    "    length is the number of pauli operators tensorised\n",
    "    \"\"\"\n",
    "    pauli_string = \"\"\n",
    "    for j in range(length):\n",
    "        if i == j:\n",
    "            pauli_string += \"Z\"\n",
    "        else:\n",
    "            pauli_string += \"I\"\n",
    "    return pauli_string\n",
    "\n",
    "def Z_ij(i, j, length):\n",
    "    pauli_string = \"\"\n",
    "    if i == j:\n",
    "        pauli_string = Z_i(-1, length) # return 'II...II'\n",
    "    else:\n",
    "        for k in range(length):\n",
    "            if k == i or k == j:\n",
    "                pauli_string += \"Z\"\n",
    "            else:\n",
    "                pauli_string += \"I\"\n",
    "    return pauli_string"
   ]
  },
  {
   "cell_type": "code",
   "execution_count": 10,
   "id": "f3f5b2f7-6a14-479b-a377-2758bc6a2f56",
   "metadata": {},
   "outputs": [],
   "source": [
    "def create_hamiltonian(coreset, weights):\n",
    "\n",
    "    paulis = []\n",
    "    pauli_weights = []\n",
    "    \n",
    "    T_inv = inv(get_weighted_scatter_matrix(coreset, weights))\n",
    "\n",
    "    W = sum(weights)\n",
    "\n",
    "    for i in range(len(coreset)):\n",
    "        paulis += [Z_i(-1, len(coreset))]\n",
    "        pauli_weights += [weights[i]**2*np.dot(coreset[i], np.dot(T_inv, coreset[i]))]\n",
    "    \n",
    "        for l in range(len(coreset)):\n",
    "            paulis += [Z_ij(i,l,len(coreset))]\n",
    "            pauli_weights += [-2*weights[l]*weights[i]**2*np.dot(coreset[i], np.dot(T_inv, coreset[i]))/W]\n",
    "            \n",
    "    for j in range(len(coreset)):\n",
    "        for i in range(j):\n",
    "            paulis += [Z_ij(i,j,len(coreset))]\n",
    "            pauli_weights += [2*weights[i]*weights[j]*np.dot(coreset[i], np.dot(T_inv, coreset[j]))]\n",
    "            for l in range(len(coreset)):\n",
    "                paulis += [Z_ij(i,l,len(coreset))]\n",
    "                pauli_weights += [-2*weights[l]*weights[i]*weights[j]*np.dot(coreset[i], np.dot(T_inv, coreset[j]))/W]\n",
    "                paulis += [Z_ij(j,l,len(coreset))]\n",
    "                pauli_weights += [-2*weights[l]*weights[i]*weights[j]*np.dot(coreset[i], np.dot(T_inv, coreset[j]))/W]\n",
    "            \n",
    "            \n",
    "    pauli_op = [([pauli,weight]) for pauli,weight in zip(paulis,pauli_weights)]\n",
    "    \n",
    "    \n",
    "    return pauli_op"
   ]
  },
  {
   "cell_type": "code",
   "execution_count": 11,
   "id": "a334a22e-3321-484f-9271-56d98e00f3bb",
   "metadata": {},
   "outputs": [],
   "source": [
    "pauli_op = create_hamiltonian(coreset_vectors, coreset_weights)"
   ]
  },
  {
   "cell_type": "code",
   "execution_count": 41,
   "id": "7e8e9752-fee6-4cfa-8629-a2414ae16b27",
   "metadata": {},
   "outputs": [
    {
     "name": "stdout",
     "output_type": "stream",
     "text": [
      "0\n",
      "[1.39995252e-16]\n",
      "[0.27088006]\n"
     ]
    },
    {
     "ename": "UFuncTypeError",
     "evalue": "Cannot cast ufunc 'add' output from dtype('O') to dtype('float64') with casting rule 'same_kind'",
     "output_type": "error",
     "traceback": [
      "\u001b[0;31m---------------------------------------------------------------------------\u001b[0m",
      "\u001b[0;31mUFuncTypeError\u001b[0m                            Traceback (most recent call last)",
      "Cell \u001b[0;32mIn[41], line 12\u001b[0m\n\u001b[1;32m     10\u001b[0m             operator \u001b[38;5;241m*\u001b[39m\u001b[38;5;241m=\u001b[39m spin\u001b[38;5;241m.\u001b[39mz(i) \n\u001b[1;32m     11\u001b[0m     \u001b[38;5;28mprint\u001b[39m(hamiltonian)\n\u001b[0;32m---> 12\u001b[0m     hamiltonian \u001b[38;5;241m+\u001b[39m\u001b[38;5;241m=\u001b[39m coeff \u001b[38;5;241m*\u001b[39m operator\n\u001b[1;32m     13\u001b[0m \u001b[38;5;28;01mreturn\u001b[39;00m \u001b[38;5;241m-\u001b[39mhamiltonian\n",
      "\u001b[0;31mUFuncTypeError\u001b[0m: Cannot cast ufunc 'add' output from dtype('O') to dtype('float64') with casting rule 'same_kind'"
     ]
    }
   ],
   "source": [
    "\n",
    "hamiltonian = 0\n",
    "for op in pauli_op:\n",
    "    operator_string = op[0]\n",
    "    coeff = op[1]\n",
    "    operator = 1\n",
    "    for i in range(len(operator_string)):\n",
    "        op_i = operator_string[i]\n",
    "        if op_i == \"Z\":\n",
    "            operator *= spin.z(i) \n",
    "    print(hamiltonian)\n",
    "    hamiltonian += coeff * operator\n",
    "return -hamiltonian"
   ]
  },
  {
   "cell_type": "code",
   "execution_count": 46,
   "id": "00e6e668-1995-41b2-bd7e-95f5be4b77f0",
   "metadata": {},
   "outputs": [
    {
     "name": "stdout",
     "output_type": "stream",
     "text": [
      "(-0.504386,-0) Z0Z1\n"
     ]
    }
   ],
   "source": [
    "H = 0"
   ]
  },
  {
   "cell_type": "code",
   "execution_count": 35,
   "id": "1d181ef2-2eab-45cb-a6e3-e5567c881b21",
   "metadata": {},
   "outputs": [
    {
     "data": {
      "text/plain": [
       "array([0.27088006])"
      ]
     },
     "execution_count": 35,
     "metadata": {},
     "output_type": "execute_result"
    }
   ],
   "source": [
    "hamiltonian"
   ]
  },
  {
   "cell_type": "code",
   "execution_count": 40,
   "id": "8317c3a7-7995-41df-8a11-75bf3ffbad10",
   "metadata": {},
   "outputs": [
    {
     "data": {
      "text/plain": [
       "'ZZIII'"
      ]
     },
     "execution_count": 40,
     "metadata": {},
     "output_type": "execute_result"
    }
   ],
   "source": [
    "operator_string"
   ]
  },
  {
   "cell_type": "code",
   "execution_count": 42,
   "id": "af4ec75b-cb64-4111-8ff1-14104eb887ef",
   "metadata": {},
   "outputs": [
    {
     "data": {
      "text/plain": [
       "4"
      ]
     },
     "execution_count": 42,
     "metadata": {},
     "output_type": "execute_result"
    }
   ],
   "source": [
    "i"
   ]
  },
  {
   "cell_type": "code",
   "execution_count": 43,
   "id": "8965e7d9-412c-42c2-955d-e427a55e5936",
   "metadata": {},
   "outputs": [],
   "source": [
    "hamiltonian = 5.907 - 2.1433 * spin.x(0) * spin.x(1) - 2.1433 * spin.y(\n",
    "    0) * spin.y(1) + .21829 * spin.z(0) - 6.125 * spin.z(1)"
   ]
  },
  {
   "cell_type": "code",
   "execution_count": 45,
   "id": "dab1094e-2b14-463c-b97e-a185061a38dc",
   "metadata": {},
   "outputs": [
    {
     "name": "stdout",
     "output_type": "stream",
     "text": [
      "(5.907,0) I0I1 + (-2.1433,-0) X0X1 + (-2.1433,-0) Y0Y1 + (0.21829,0) Z0I1 + (-6.125,-0) I0Z1\n"
     ]
    }
   ],
   "source": [
    "print(hamiltonian)"
   ]
  },
  {
   "cell_type": "code",
   "execution_count": null,
   "id": "606ed8e0-032d-4360-add2-d096be88e0c1",
   "metadata": {},
   "outputs": [],
   "source": []
  },
  {
   "cell_type": "code",
   "execution_count": null,
   "id": "edb28b1b-d211-4848-9eb1-415f0f13888e",
   "metadata": {},
   "outputs": [],
   "source": []
  }
 ],
 "metadata": {
  "kernelspec": {
   "display_name": "Python 3 (ipykernel)",
   "language": "python",
   "name": "python3"
  },
  "language_info": {
   "codemirror_mode": {
    "name": "ipython",
    "version": 3
   },
   "file_extension": ".py",
   "mimetype": "text/x-python",
   "name": "python",
   "nbconvert_exporter": "python",
   "pygments_lexer": "ipython3",
   "version": "3.10.6"
  }
 },
 "nbformat": 4,
 "nbformat_minor": 5
}
