{
 "cells": [
  {
   "cell_type": "code",
   "execution_count": 2,
   "id": "78475bd7-f2fb-4275-bae8-609b102ec67f",
   "metadata": {},
   "outputs": [],
   "source": [
    "import pandas as pd\n",
    "from matplotlib import pyplot as plt\n",
    "\n",
    "from bigdatavqa.coreset import Coreset\n",
    "from bigdatavqa.datautils import DataUtils\n"
   ]
  },
  {
   "cell_type": "code",
   "execution_count": 7,
   "id": "063508ee-735a-4ffa-9c5d-0bd50d8b3953",
   "metadata": {},
   "outputs": [],
   "source": [
    "number_of_qubits = 10\n",
    "circuit_depth = 1\n",
    "max_shots = 1000\n",
    "max_iterations = 100\n",
    "data_location = \"../data\"\n",
    "number_of_coresets_to_evaluate = 15\n",
    "number_of_sampling_for_centroids = 20"
   ]
  },
  {
   "cell_type": "markdown",
   "id": "4c0eb046-cff6-4c02-b17c-8c6ae52f41f1",
   "metadata": {},
   "source": [
    "### Load data"
   ]
  },
  {
   "cell_type": "code",
   "execution_count": 4,
   "id": "ba1237de-c275-430f-b768-93390a65b97e",
   "metadata": {},
   "outputs": [
    {
     "name": "stdout",
     "output_type": "stream",
     "text": [
      "Data loaded from ../data/dataset.pickle\n"
     ]
    }
   ],
   "source": [
    "data_utils = DataUtils(data_location)\n",
    "raw_data = data_utils.load_dataset()"
   ]
  },
  {
   "cell_type": "markdown",
   "id": "320e48cb-6163-4daa-8d0e-7ce54e32cf26",
   "metadata": {},
   "source": [
    "### Run the experiment"
   ]
  },
  {
   "cell_type": "code",
   "execution_count": 8,
   "id": "d1253972-efd7-41ec-82b4-553a4fa76b2a",
   "metadata": {},
   "outputs": [
    {
     "name": "stdout",
     "output_type": "stream",
     "text": [
      "Using BFL16 method to generate coresets\n"
     ]
    },
    {
     "name": "stderr",
     "output_type": "stream",
     "text": [
      "/home/yogi/.pyenv/versions/3.10.0/envs/VQA/lib/python3.10/site-packages/sklearn/cluster/_kmeans.py:870: FutureWarning: The default value of `n_init` will change from 10 to 'auto' in 1.4. Set the value of `n_init` explicitly to suppress the warning\n",
      "  warnings.warn(\n",
      "/home/yogi/.pyenv/versions/3.10.0/envs/VQA/lib/python3.10/site-packages/sklearn/cluster/_kmeans.py:870: FutureWarning: The default value of `n_init` will change from 10 to 'auto' in 1.4. Set the value of `n_init` explicitly to suppress the warning\n",
      "  warnings.warn(\n",
      "/home/yogi/.pyenv/versions/3.10.0/envs/VQA/lib/python3.10/site-packages/sklearn/cluster/_kmeans.py:870: FutureWarning: The default value of `n_init` will change from 10 to 'auto' in 1.4. Set the value of `n_init` explicitly to suppress the warning\n",
      "  warnings.warn(\n",
      "/home/yogi/.pyenv/versions/3.10.0/envs/VQA/lib/python3.10/site-packages/sklearn/cluster/_kmeans.py:870: FutureWarning: The default value of `n_init` will change from 10 to 'auto' in 1.4. Set the value of `n_init` explicitly to suppress the warning\n",
      "  warnings.warn(\n",
      "/home/yogi/.pyenv/versions/3.10.0/envs/VQA/lib/python3.10/site-packages/sklearn/cluster/_kmeans.py:870: FutureWarning: The default value of `n_init` will change from 10 to 'auto' in 1.4. Set the value of `n_init` explicitly to suppress the warning\n",
      "  warnings.warn(\n",
      "/home/yogi/.pyenv/versions/3.10.0/envs/VQA/lib/python3.10/site-packages/sklearn/cluster/_kmeans.py:870: FutureWarning: The default value of `n_init` will change from 10 to 'auto' in 1.4. Set the value of `n_init` explicitly to suppress the warning\n",
      "  warnings.warn(\n",
      "/home/yogi/.pyenv/versions/3.10.0/envs/VQA/lib/python3.10/site-packages/sklearn/cluster/_kmeans.py:870: FutureWarning: The default value of `n_init` will change from 10 to 'auto' in 1.4. Set the value of `n_init` explicitly to suppress the warning\n",
      "  warnings.warn(\n",
      "/home/yogi/.pyenv/versions/3.10.0/envs/VQA/lib/python3.10/site-packages/sklearn/cluster/_kmeans.py:870: FutureWarning: The default value of `n_init` will change from 10 to 'auto' in 1.4. Set the value of `n_init` explicitly to suppress the warning\n",
      "  warnings.warn(\n",
      "/home/yogi/.pyenv/versions/3.10.0/envs/VQA/lib/python3.10/site-packages/sklearn/cluster/_kmeans.py:870: FutureWarning: The default value of `n_init` will change from 10 to 'auto' in 1.4. Set the value of `n_init` explicitly to suppress the warning\n",
      "  warnings.warn(\n",
      "/home/yogi/.pyenv/versions/3.10.0/envs/VQA/lib/python3.10/site-packages/sklearn/cluster/_kmeans.py:870: FutureWarning: The default value of `n_init` will change from 10 to 'auto' in 1.4. Set the value of `n_init` explicitly to suppress the warning\n",
      "  warnings.warn(\n",
      "/home/yogi/.pyenv/versions/3.10.0/envs/VQA/lib/python3.10/site-packages/sklearn/cluster/_kmeans.py:870: FutureWarning: The default value of `n_init` will change from 10 to 'auto' in 1.4. Set the value of `n_init` explicitly to suppress the warning\n",
      "  warnings.warn(\n",
      "/home/yogi/.pyenv/versions/3.10.0/envs/VQA/lib/python3.10/site-packages/sklearn/cluster/_kmeans.py:870: FutureWarning: The default value of `n_init` will change from 10 to 'auto' in 1.4. Set the value of `n_init` explicitly to suppress the warning\n",
      "  warnings.warn(\n",
      "/home/yogi/.pyenv/versions/3.10.0/envs/VQA/lib/python3.10/site-packages/sklearn/cluster/_kmeans.py:870: FutureWarning: The default value of `n_init` will change from 10 to 'auto' in 1.4. Set the value of `n_init` explicitly to suppress the warning\n",
      "  warnings.warn(\n",
      "/home/yogi/.pyenv/versions/3.10.0/envs/VQA/lib/python3.10/site-packages/sklearn/cluster/_kmeans.py:870: FutureWarning: The default value of `n_init` will change from 10 to 'auto' in 1.4. Set the value of `n_init` explicitly to suppress the warning\n",
      "  warnings.warn(\n",
      "/home/yogi/.pyenv/versions/3.10.0/envs/VQA/lib/python3.10/site-packages/sklearn/cluster/_kmeans.py:870: FutureWarning: The default value of `n_init` will change from 10 to 'auto' in 1.4. Set the value of `n_init` explicitly to suppress the warning\n",
      "  warnings.warn(\n"
     ]
    }
   ],
   "source": [
    "coreset = Coreset(raw_data, number_of_sampling_for_centroids, number_of_qubits, number_of_coresets_to_evaluate)\n",
    "coreset_vectors, coreset_weights = coreset.get_best_coresets()\n",
    "\n"
   ]
  },
  {
   "cell_type": "code",
   "execution_count": 14,
   "id": "22d3cc6a",
   "metadata": {},
   "outputs": [
    {
     "data": {
      "text/html": [
       "<div>\n",
       "<style scoped>\n",
       "    .dataframe tbody tr th:only-of-type {\n",
       "        vertical-align: middle;\n",
       "    }\n",
       "\n",
       "    .dataframe tbody tr th {\n",
       "        vertical-align: top;\n",
       "    }\n",
       "\n",
       "    .dataframe thead th {\n",
       "        text-align: right;\n",
       "    }\n",
       "</style>\n",
       "<table border=\"1\" class=\"dataframe\">\n",
       "  <thead>\n",
       "    <tr style=\"text-align: right;\">\n",
       "      <th></th>\n",
       "      <th>X</th>\n",
       "      <th>Y</th>\n",
       "      <th>weights</th>\n",
       "      <th>Name</th>\n",
       "    </tr>\n",
       "  </thead>\n",
       "  <tbody>\n",
       "    <tr>\n",
       "      <th>0</th>\n",
       "      <td>1.234970</td>\n",
       "      <td>-2.322804</td>\n",
       "      <td>30.756221</td>\n",
       "      <td>A</td>\n",
       "    </tr>\n",
       "    <tr>\n",
       "      <th>1</th>\n",
       "      <td>7.632561</td>\n",
       "      <td>1.608484</td>\n",
       "      <td>46.346699</td>\n",
       "      <td>B</td>\n",
       "    </tr>\n",
       "    <tr>\n",
       "      <th>2</th>\n",
       "      <td>-1.401513</td>\n",
       "      <td>1.381436</td>\n",
       "      <td>72.090693</td>\n",
       "      <td>C</td>\n",
       "    </tr>\n",
       "    <tr>\n",
       "      <th>3</th>\n",
       "      <td>-0.955183</td>\n",
       "      <td>0.605138</td>\n",
       "      <td>78.576072</td>\n",
       "      <td>D</td>\n",
       "    </tr>\n",
       "    <tr>\n",
       "      <th>4</th>\n",
       "      <td>7.031164</td>\n",
       "      <td>0.600513</td>\n",
       "      <td>207.344587</td>\n",
       "      <td>E</td>\n",
       "    </tr>\n",
       "    <tr>\n",
       "      <th>5</th>\n",
       "      <td>-0.579997</td>\n",
       "      <td>0.531602</td>\n",
       "      <td>129.503659</td>\n",
       "      <td>F</td>\n",
       "    </tr>\n",
       "    <tr>\n",
       "      <th>6</th>\n",
       "      <td>5.598487</td>\n",
       "      <td>2.381436</td>\n",
       "      <td>79.214885</td>\n",
       "      <td>G</td>\n",
       "    </tr>\n",
       "    <tr>\n",
       "      <th>7</th>\n",
       "      <td>1.437617</td>\n",
       "      <td>-0.720174</td>\n",
       "      <td>123.906885</td>\n",
       "      <td>H</td>\n",
       "    </tr>\n",
       "    <tr>\n",
       "      <th>8</th>\n",
       "      <td>-1.374061</td>\n",
       "      <td>1.006438</td>\n",
       "      <td>120.753605</td>\n",
       "      <td>I</td>\n",
       "    </tr>\n",
       "    <tr>\n",
       "      <th>9</th>\n",
       "      <td>1.583383</td>\n",
       "      <td>-0.964323</td>\n",
       "      <td>129.192044</td>\n",
       "      <td>J</td>\n",
       "    </tr>\n",
       "  </tbody>\n",
       "</table>\n",
       "</div>"
      ],
      "text/plain": [
       "          X         Y     weights Name\n",
       "0  1.234970 -2.322804   30.756221    A\n",
       "1  7.632561  1.608484   46.346699    B\n",
       "2 -1.401513  1.381436   72.090693    C\n",
       "3 -0.955183  0.605138   78.576072    D\n",
       "4  7.031164  0.600513  207.344587    E\n",
       "5 -0.579997  0.531602  129.503659    F\n",
       "6  5.598487  2.381436   79.214885    G\n",
       "7  1.437617 -0.720174  123.906885    H\n",
       "8 -1.374061  1.006438  120.753605    I\n",
       "9  1.583383 -0.964323  129.192044    J"
      ]
     },
     "execution_count": 14,
     "metadata": {},
     "output_type": "execute_result"
    }
   ],
   "source": [
    "coreset_df = pd.DataFrame(coreset_vectors, columns=list(\"XY\"))\n",
    "coreset_df['weights'] = coreset_weights\n",
    "coreset_df[\"Name\"] = [chr(i + 65) for i in coreset_df.index]\n",
    "coreset_df"
   ]
  },
  {
   "cell_type": "code",
   "execution_count": 32,
   "id": "ad80e965",
   "metadata": {},
   "outputs": [],
   "source": [
    "# TODO: show example as the follow\n",
    "\n",
    "divisive_clustering_function = DivisiveClusteringVQE(\n",
    "    circuit_depth=circuit_depth,\n",
    "    max_iterations=max_iterations,\n",
    "    max_shots=max_shots,\n",
    "    threshold_for_max_cut=threshold_for_max_cut,\n",
    ")\n",
    "\n",
    "divisive_clustering_function = DivisiveClusteringMaxCut()\n",
    "\n",
    "\n",
    "hierrachial_sequence = get_divisive_sequence(coreset_df, divisive_clustering_function)\n",
    "\n",
    "# divisive_clustering_function = DivisiveClusteringRandom()\n",
    "\n",
    "# divisive_clustering_function = DivisiveClusteringKMeans\n",
    "\n",
    "# hierrachial_sequence_kmeans = get_divisive_sequence(\n",
    "#     coreset_df, divisive_clustering_function\n",
    "# )"
   ]
  },
  {
   "cell_type": "code",
   "execution_count": 33,
   "id": "5f8eacef",
   "metadata": {},
   "outputs": [],
   "source": [
    "DC = DivisiveClustering(coreset_df, number_of_clusters=2, max_iterations=100, threshold=0.1)"
   ]
  },
  {
   "cell_type": "code",
   "execution_count": 34,
   "id": "bf809681",
   "metadata": {},
   "outputs": [
    {
     "ename": "ValueError",
     "evalue": "Variable qubits not found in the object",
     "output_type": "error",
     "traceback": [
      "\u001b[0;31m---------------------------------------------------------------------------\u001b[0m",
      "\u001b[0;31mValueError\u001b[0m                                Traceback (most recent call last)",
      "Cell \u001b[0;32mIn[34], line 1\u001b[0m\n\u001b[0;32m----> 1\u001b[0m \u001b[43mDC\u001b[49m\u001b[38;5;241;43m.\u001b[39;49m\u001b[43mclustering\u001b[49m\u001b[43m(\u001b[49m\u001b[43m)\u001b[49m\n",
      "Cell \u001b[0;32mIn[32], line 13\u001b[0m, in \u001b[0;36mDivisiveClustering.clustering\u001b[0;34m(self)\u001b[0m\n\u001b[1;32m     12\u001b[0m \u001b[38;5;28;01mdef\u001b[39;00m \u001b[38;5;21mclustering\u001b[39m(\u001b[38;5;28mself\u001b[39m):\n\u001b[0;32m---> 13\u001b[0m     \u001b[38;5;28;43mself\u001b[39;49m\u001b[38;5;241;43m.\u001b[39;49m\u001b[43m_check_variables\u001b[49m\u001b[43m(\u001b[49m\u001b[43m[\u001b[49m\u001b[38;5;124;43m\"\u001b[39;49m\u001b[38;5;124;43mfull_coreset_pd\u001b[39;49m\u001b[38;5;124;43m\"\u001b[39;49m\u001b[43m,\u001b[49m\u001b[43m \u001b[49m\u001b[38;5;124;43m\"\u001b[39;49m\u001b[38;5;124;43mnumber_of_clusters\u001b[39;49m\u001b[38;5;124;43m\"\u001b[39;49m\u001b[43m,\u001b[49m\u001b[43m \u001b[49m\u001b[38;5;124;43m\"\u001b[39;49m\u001b[38;5;124;43mqubits\u001b[39;49m\u001b[38;5;124;43m\"\u001b[39;49m\u001b[43m]\u001b[49m\u001b[43m)\u001b[49m\n\u001b[1;32m     14\u001b[0m     \u001b[38;5;28;01mreturn\u001b[39;00m \u001b[38;5;28mself\u001b[39m\u001b[38;5;241m.\u001b[39mfull_coreset_pd\n",
      "Cell \u001b[0;32mIn[32], line 10\u001b[0m, in \u001b[0;36mDivisiveClustering._check_variables\u001b[0;34m(self, variables)\u001b[0m\n\u001b[1;32m      8\u001b[0m \u001b[38;5;28;01mfor\u001b[39;00m variable \u001b[38;5;129;01min\u001b[39;00m variables:\n\u001b[1;32m      9\u001b[0m     \u001b[38;5;28;01mif\u001b[39;00m \u001b[38;5;129;01mnot\u001b[39;00m \u001b[38;5;28mhasattr\u001b[39m(\u001b[38;5;28mself\u001b[39m, variable):\n\u001b[0;32m---> 10\u001b[0m         \u001b[38;5;28;01mraise\u001b[39;00m \u001b[38;5;167;01mValueError\u001b[39;00m(\u001b[38;5;124mf\u001b[39m\u001b[38;5;124m\"\u001b[39m\u001b[38;5;124mVariable \u001b[39m\u001b[38;5;132;01m{\u001b[39;00mvariable\u001b[38;5;132;01m}\u001b[39;00m\u001b[38;5;124m not found in the object\u001b[39m\u001b[38;5;124m\"\u001b[39m)\n",
      "\u001b[0;31mValueError\u001b[0m: Variable qubits not found in the object"
     ]
    }
   ],
   "source": [
    "DC.clustering()"
   ]
  },
  {
   "cell_type": "markdown",
   "id": "e4c38825-a1ea-4d07-85bc-4c5228077533",
   "metadata": {},
   "source": [
    "### Investigate corest"
   ]
  },
  {
   "cell_type": "code",
   "execution_count": 5,
   "id": "f38e5f60",
   "metadata": {},
   "outputs": [],
   "source": [
    "from bigdatavqa.coreset import Coreset\n",
    "hc = pd.read_pickle(\"hc.pkl\")\n",
    "coreset = Coreset()\n",
    "coresets =  coreset.get_best_coresets(\n",
    "    data_vectors=raw_data,\n",
    "    number_of_runs=number_of_centroid_evaluation,\n",
    "    coreset_size=number_of_qubits,\n",
    "    number_of_coresets_to_evaluate=number_of_corsets_to_evaluate,\n",
    ")"
   ]
  },
  {
   "cell_type": "code",
   "execution_count": 50,
   "id": "892d83a2",
   "metadata": {},
   "outputs": [],
   "source": [
    "pd.to_pickle(coresets_pd, \"coresets_pd.pkl\")"
   ]
  },
  {
   "cell_type": "code",
   "execution_count": 49,
   "id": "1ad7946f",
   "metadata": {},
   "outputs": [
    {
     "data": {
      "text/html": [
       "<div>\n",
       "<style scoped>\n",
       "    .dataframe tbody tr th:only-of-type {\n",
       "        vertical-align: middle;\n",
       "    }\n",
       "\n",
       "    .dataframe tbody tr th {\n",
       "        vertical-align: top;\n",
       "    }\n",
       "\n",
       "    .dataframe thead th {\n",
       "        text-align: right;\n",
       "    }\n",
       "</style>\n",
       "<table border=\"1\" class=\"dataframe\">\n",
       "  <thead>\n",
       "    <tr style=\"text-align: right;\">\n",
       "      <th></th>\n",
       "      <th>X</th>\n",
       "      <th>Y</th>\n",
       "      <th>weights</th>\n",
       "      <th>X_norm</th>\n",
       "      <th>Y_norm</th>\n",
       "      <th>weights_norm</th>\n",
       "      <th>name</th>\n",
       "    </tr>\n",
       "  </thead>\n",
       "  <tbody>\n",
       "    <tr>\n",
       "      <th>0</th>\n",
       "      <td>-0.730637</td>\n",
       "      <td>0.560738</td>\n",
       "      <td>141.930948</td>\n",
       "      <td>-0.752247</td>\n",
       "      <td>0.069486</td>\n",
       "      <td>0.408902</td>\n",
       "      <td>A</td>\n",
       "    </tr>\n",
       "    <tr>\n",
       "      <th>1</th>\n",
       "      <td>8.400117</td>\n",
       "      <td>-0.716623</td>\n",
       "      <td>34.704424</td>\n",
       "      <td>0.572735</td>\n",
       "      <td>-0.733969</td>\n",
       "      <td>0.099983</td>\n",
       "      <td>B</td>\n",
       "    </tr>\n",
       "    <tr>\n",
       "      <th>2</th>\n",
       "      <td>6.625932</td>\n",
       "      <td>1.590019</td>\n",
       "      <td>347.102776</td>\n",
       "      <td>0.315279</td>\n",
       "      <td>0.716901</td>\n",
       "      <td>1.000000</td>\n",
       "      <td>C</td>\n",
       "    </tr>\n",
       "    <tr>\n",
       "      <th>3</th>\n",
       "      <td>8.809205</td>\n",
       "      <td>-0.260701</td>\n",
       "      <td>30.625510</td>\n",
       "      <td>0.632098</td>\n",
       "      <td>-0.447196</td>\n",
       "      <td>0.088232</td>\n",
       "      <td>D</td>\n",
       "    </tr>\n",
       "    <tr>\n",
       "      <th>4</th>\n",
       "      <td>8.414999</td>\n",
       "      <td>-0.018913</td>\n",
       "      <td>81.934644</td>\n",
       "      <td>0.574894</td>\n",
       "      <td>-0.295112</td>\n",
       "      <td>0.236053</td>\n",
       "      <td>E</td>\n",
       "    </tr>\n",
       "    <tr>\n",
       "      <th>5</th>\n",
       "      <td>4.997290</td>\n",
       "      <td>2.040100</td>\n",
       "      <td>111.374199</td>\n",
       "      <td>0.078944</td>\n",
       "      <td>1.000000</td>\n",
       "      <td>0.320868</td>\n",
       "      <td>F</td>\n",
       "    </tr>\n",
       "    <tr>\n",
       "      <th>6</th>\n",
       "      <td>1.976289</td>\n",
       "      <td>-0.865133</td>\n",
       "      <td>94.424112</td>\n",
       "      <td>-0.359439</td>\n",
       "      <td>-0.827382</td>\n",
       "      <td>0.272035</td>\n",
       "      <td>G</td>\n",
       "    </tr>\n",
       "    <tr>\n",
       "      <th>7</th>\n",
       "      <td>-2.437962</td>\n",
       "      <td>1.259981</td>\n",
       "      <td>37.851261</td>\n",
       "      <td>-1.000000</td>\n",
       "      <td>0.509308</td>\n",
       "      <td>0.109049</td>\n",
       "      <td>H</td>\n",
       "    </tr>\n",
       "    <tr>\n",
       "      <th>8</th>\n",
       "      <td>0.551607</td>\n",
       "      <td>-0.270315</td>\n",
       "      <td>122.921489</td>\n",
       "      <td>-0.566178</td>\n",
       "      <td>-0.453243</td>\n",
       "      <td>0.354136</td>\n",
       "      <td>I</td>\n",
       "    </tr>\n",
       "    <tr>\n",
       "      <th>9</th>\n",
       "      <td>7.925852</td>\n",
       "      <td>1.183509</td>\n",
       "      <td>123.123136</td>\n",
       "      <td>0.503913</td>\n",
       "      <td>0.461207</td>\n",
       "      <td>0.354717</td>\n",
       "      <td>J</td>\n",
       "    </tr>\n",
       "  </tbody>\n",
       "</table>\n",
       "</div>"
      ],
      "text/plain": [
       "          X         Y     weights    X_norm    Y_norm  weights_norm name\n",
       "0 -0.730637  0.560738  141.930948 -0.752247  0.069486      0.408902    A\n",
       "1  8.400117 -0.716623   34.704424  0.572735 -0.733969      0.099983    B\n",
       "2  6.625932  1.590019  347.102776  0.315279  0.716901      1.000000    C\n",
       "3  8.809205 -0.260701   30.625510  0.632098 -0.447196      0.088232    D\n",
       "4  8.414999 -0.018913   81.934644  0.574894 -0.295112      0.236053    E\n",
       "5  4.997290  2.040100  111.374199  0.078944  1.000000      0.320868    F\n",
       "6  1.976289 -0.865133   94.424112 -0.359439 -0.827382      0.272035    G\n",
       "7 -2.437962  1.259981   37.851261 -1.000000  0.509308      0.109049    H\n",
       "8  0.551607 -0.270315  122.921489 -0.566178 -0.453243      0.354136    I\n",
       "9  7.925852  1.183509  123.123136  0.503913  0.461207      0.354717    J"
      ]
     },
     "execution_count": 49,
     "metadata": {},
     "output_type": "execute_result"
    }
   ],
   "source": [
    "coresets_pd = pd.DataFrame(coresets[0])\n",
    "coresets_pd.columns = [\"X\", \"Y\"]\n",
    "coresets_pd['weights'] = coresets[1]\n",
    "coresets_pd['X_norm'] = normalize_np(coresets_pd['X'], centralize=True)\n",
    "coresets_pd['Y_norm'] = normalize_np(coresets_pd['Y'], centralize=True)\n",
    "coresets_pd['weights_norm'] = normalize_np(coresets_pd['weights'])\n",
    "coresets_pd['name'] = [chr(65 + i) for i in range(len(coresets_pd))]\n",
    "coresets_pd"
   ]
  },
  {
   "cell_type": "markdown",
   "id": "ef01f4c9",
   "metadata": {},
   "source": [
    "Explain how coreset vectors and weights are normalized"
   ]
  },
  {
   "cell_type": "code",
   "execution_count": 7,
   "id": "0152fdc9-d3fe-4b6f-8f38-f9b574fadcd1",
   "metadata": {},
   "outputs": [
    {
     "data": {
      "text/plain": [
       "Text(0.5, 1.0, 'Visualizing raw data and the corresponding coreset')"
      ]
     },
     "execution_count": 7,
     "metadata": {},
     "output_type": "execute_result"
    },
    {
     "data": {
      "image/png": "[encoded data removed]",
      "text/plain": [
       "<Figure size 640x480 with 1 Axes>"
      ]
     },
     "metadata": {},
     "output_type": "display_data"
    }
   ],
   "source": [
    "plt.scatter(raw_data[:, 0], raw_data[:, 1], color = 'blue', alpha=0.05)\n",
    "plt.scatter(coresets_pd.X, coresets_pd.Y, s = coresets_pd.weights, marker='*', color = 'green')\n",
    "for idx, row in coresets_pd.iterrows():\n",
    "    plt.annotate(row[\"name\"], xy = (row.X, row.Y+ 0.05), color = \"red\")\n",
    "\n",
    "plt.xlabel(\"X\")\n",
    "plt.ylabel(\"Y\")\n",
    "\n",
    "plt.title(\"Visualizing raw data and the corresponding coreset\")\n"
   ]
  },
  {
   "cell_type": "markdown",
   "id": "f9ce5a9d",
   "metadata": {},
   "source": [
    "Draw an expected Dendrogram"
   ]
  },
  {
   "cell_type": "markdown",
   "id": "f7140525-f074-4947-ae41-4de4ecde8bb4",
   "metadata": {},
   "source": [
    "### Plot dendrogram\n",
    "\n",
    "Given that there are no automated functions to plot the dendrogram, we need to do this manually. We plot the dendrogram at each step of the hierarchy. If we are satisfied with the result, we move to the next index. \n",
    "\n",
    "#### Step by step guide:\n",
    "1. Enter the index value. If you are starting, this should be 0. The max value is the total length of the ```hc``` list.\n",
    "2. It will prompt buffer values. Enter two values with opposite signs separated by space. i.e -500 500.\n",
    "3. The system will prompt a question asking for your satisfaction. Since this function is created for terminal, doing it on notebook is a bit tricky. You have to say \"yes\" to view the plot.\n",
    "4. If you are satisfied with the position of the branches. Repeat the previous steps with the next index\n",
    "5. The file saved in this process will be used to plot the final dendrogram\n",
    "\n",
    "#### Tips\n",
    "1. The buffer value must be high initially and slowly decrease the value. This ensures that there are enough room for upcoming branches\n",
    "2. Try to place the branch with a low number of children towards the y=0 axis. "
   ]
  },
  {
   "cell_type": "code",
   "execution_count": 9,
   "id": "cf51c991-312a-4d6c-98ed-48afa024caa6",
   "metadata": {},
   "outputs": [],
   "source": [
    "#hc = pd.read_pickle(\"../paper_results/data/divisive_clustering/hc_vqe_cut.pkl\")\n",
    "dendo = Dendrogram(hc, coresets_pd, raw_data, dendrogram_file = \"example\")"
   ]
  },
  {
   "cell_type": "code",
   "execution_count": 38,
   "id": "d9c0dafa-90d9-42c4-a997-a0fb0b29160c",
   "metadata": {},
   "outputs": [
    {
     "data": {
      "image/png": "[encoded data removed]",
      "text/plain": [
       "<Figure size 2000x1000 with 1 Axes>"
      ]
     },
     "metadata": {},
     "output_type": "display_data"
    }
   ],
   "source": [
    "current_index = 18\n",
    "\n",
    "dendo.plot_dendrogram_manually(current_index, save_image = False)"
   ]
  },
  {
   "cell_type": "markdown",
   "id": "9d2bc0c9-48d4-4021-967f-a9474b9ca127",
   "metadata": {},
   "source": [
    "### Final dendrogram"
   ]
  },
  {
   "cell_type": "code",
   "execution_count": 39,
   "id": "9673b131-a36e-4fb2-bb62-75120789a6ba",
   "metadata": {},
   "outputs": [
    {
     "data": {
      "image/png": "[encoded data removed]",
      "text/plain": [
       "<Figure size 500x1000 with 1 Axes>"
      ]
     },
     "metadata": {},
     "output_type": "display_data"
    }
   ],
   "source": [
    "dendrogram_df = pd.read_pickle(\n",
    "    \"example.pkl\"\n",
    ")\n",
    "dendo.plot_dendrogram(\n",
    "    dendrogram_df=dendrogram_df,\n",
    "    plot_name=f\"example.png\",\n",
    "    vertical_line=0.4,\n",
    ")\n"
   ]
  },
  {
   "cell_type": "markdown",
   "id": "417b8610-233f-4bcf-9746-314cae37a783",
   "metadata": {},
   "source": [
    "### Calculating the total cost"
   ]
  },
  {
   "cell_type": "code",
   "execution_count": 42,
   "id": "f516d3c3-2dac-4969-981d-39147df32736",
   "metadata": {},
   "outputs": [
    {
     "name": "stdout",
     "output_type": "stream",
     "text": [
      "VQE cost: 49.63362850037852\n"
     ]
    }
   ],
   "source": [
    "centroid_coords = dendo.get_centroid_coords()\n",
    "\n",
    "cost_list = get_divisive_cluster_cost(dendo, hc, centroid_coords)\n",
    "\n",
    "vqe_cost = sum(cost_list)\n",
    "\n",
    "print(f\"VQE cost: {vqe_cost}\")"
   ]
  },
  {
   "cell_type": "markdown",
   "id": "bc9f42a8-ca26-488a-a92f-5770de303b24",
   "metadata": {},
   "source": [
    "### Hierarchial division through other methods\n",
    "Available methods are \"kmeans\", \"maxcut\" and \"random\""
   ]
  },
  {
   "cell_type": "code",
   "execution_count": 90,
   "id": "b18db682-c0ef-403a-ad5d-657e4cd7a999",
   "metadata": {},
   "outputs": [
    {
     "name": "stdout",
     "output_type": "stream",
     "text": [
      "Random cost: 46.0796004455678\n"
     ]
    }
   ],
   "source": [
    "hc = perform_bruteforce_divisive_clustering(coresets_pd, method = \"random\")\n",
    "dendo = Dendrogram(hc, coresets_pd, raw_data)\n",
    "dendo.get_centroid_dist_df()\n",
    "dendo.get_cluster_reference_dict()\n",
    "\n",
    "centroid_coords = dendo.get_centroid_coords()\n",
    "\n",
    "cost_list = get_divisive_cluster_cost(dendo, hc, centroid_coords)\n",
    "random_cost = sum(cost_list)\n",
    "print(f\"Random cost: {random_cost}\")"
   ]
  },
  {
   "cell_type": "code",
   "execution_count": 94,
   "id": "0ca2b1fd",
   "metadata": {},
   "outputs": [
    {
     "name": "stdout",
     "output_type": "stream",
     "text": [
      "Kmeans cost: 54.423574755067484\n"
     ]
    }
   ],
   "source": [
    "hc = perform_bruteforce_divisive_clustering(coresets_pd, method = \"kmeans\")\n",
    "dendo = Dendrogram(hc, coresets_pd, raw_data)\n",
    "dendo.get_centroid_dist_df()\n",
    "dendo.get_cluster_reference_dict()\n",
    "\n",
    "centroid_coords = dendo.get_centroid_coords()\n",
    "\n",
    "cost_list = get_divisive_cluster_cost(dendo, hc, centroid_coords)\n",
    "kmeans_cost = sum(cost_list)\n",
    "print(f\"Kmeans cost: {kmeans_cost}\")"
   ]
  },
  {
   "cell_type": "code",
   "execution_count": 48,
   "id": "b9663dc6",
   "metadata": {},
   "outputs": [
    {
     "name": "stderr",
     "output_type": "stream",
     "text": [
      "  0%|          | 0/1022 [00:00<?, ?it/s]"
     ]
    },
    {
     "name": "stderr",
     "output_type": "stream",
     "text": [
      "100%|██████████| 1022/1022 [00:00<00:00, 4896.74it/s]\n"
     ]
    },
    {
     "ename": "ValueError",
     "evalue": "Length mismatch: Expected axis has 2 elements, new values have 1 elements",
     "output_type": "error",
     "traceback": [
      "\u001b[0;31m---------------------------------------------------------------------------\u001b[0m",
      "\u001b[0;31mValueError\u001b[0m                                Traceback (most recent call last)",
      "Cell \u001b[0;32mIn[48], line 1\u001b[0m\n\u001b[0;32m----> 1\u001b[0m hc \u001b[38;5;241m=\u001b[39m \u001b[43mperform_bruteforce_divisive_clustering\u001b[49m\u001b[43m(\u001b[49m\u001b[43mcoresets_pd\u001b[49m\u001b[43m,\u001b[49m\u001b[43m \u001b[49m\u001b[43mmethod\u001b[49m\u001b[43m \u001b[49m\u001b[38;5;241;43m=\u001b[39;49m\u001b[43m \u001b[49m\u001b[38;5;124;43m\"\u001b[39;49m\u001b[38;5;124;43mmaxcut\u001b[39;49m\u001b[38;5;124;43m\"\u001b[39;49m\u001b[43m)\u001b[49m\n\u001b[1;32m      2\u001b[0m dendo \u001b[38;5;241m=\u001b[39m Dendrogram(hc, coresets_pd, raw_data)\n\u001b[1;32m      3\u001b[0m dendo\u001b[38;5;241m.\u001b[39mget_centroid_dist_df()\n",
      "File \u001b[0;32m~/Projects/experiments/VQA/src/bigdatavqa/divisiveclustering/bruteforce.py:50\u001b[0m, in \u001b[0;36mperform_bruteforce_divisive_clustering\u001b[0;34m(coreset_pd, method)\u001b[0m\n\u001b[1;32m     48\u001b[0m \u001b[38;5;28;01melif\u001b[39;00m method \u001b[38;5;241m==\u001b[39m \u001b[38;5;124m\"\u001b[39m\u001b[38;5;124mmaxcut\u001b[39m\u001b[38;5;124m\"\u001b[39m:\n\u001b[1;32m     49\u001b[0m     qubits \u001b[38;5;241m=\u001b[39m \u001b[38;5;28mlen\u001b[39m(sub_df)\n\u001b[0;32m---> 50\u001b[0m     bitstring \u001b[38;5;241m=\u001b[39m \u001b[43mget_best_bitstring\u001b[49m\u001b[43m(\u001b[49m\u001b[43mqubits\u001b[49m\u001b[43m,\u001b[49m\u001b[43m \u001b[49m\u001b[43msub_df\u001b[49m\u001b[43m,\u001b[49m\u001b[43m \u001b[49m\u001b[43msub_index_vals\u001b[49m\u001b[43m)\u001b[49m\n\u001b[1;32m     51\u001b[0m \u001b[38;5;28;01melse\u001b[39;00m:\n\u001b[1;32m     52\u001b[0m     \u001b[38;5;28;01mraise\u001b[39;00m \u001b[38;5;167;01mValueError\u001b[39;00m(\u001b[38;5;124m\"\u001b[39m\u001b[38;5;124mMethod not found\u001b[39m\u001b[38;5;124m\"\u001b[39m)\n",
      "File \u001b[0;32m~/Projects/experiments/VQA/src/bigdatavqa/divisiveclustering/bruteforce.py:103\u001b[0m, in \u001b[0;36mget_best_bitstring\u001b[0;34m(qubits, coreset_pd, idx_vals)\u001b[0m\n\u001b[1;32m     99\u001b[0m bitstrings \u001b[38;5;241m=\u001b[39m create_bitstrings(qubits)\n\u001b[1;32m    101\u001b[0m cost_val \u001b[38;5;241m=\u001b[39m brute_force_cost_2(bitstrings, G)\n\u001b[0;32m--> 103\u001b[0m cost_val_pd \u001b[38;5;241m=\u001b[39m \u001b[43mcreate_cost_val_pd\u001b[49m\u001b[43m(\u001b[49m\u001b[43mcost_val\u001b[49m\u001b[43m)\u001b[49m\n\u001b[1;32m    105\u001b[0m max_bitstring \u001b[38;5;241m=\u001b[39m get_max_bitstring(cost_val_pd)\n\u001b[1;32m    107\u001b[0m \u001b[38;5;28;01mreturn\u001b[39;00m max_bitstring\n",
      "File \u001b[0;32m~/Projects/experiments/VQA/src/bigdatavqa/divisiveclustering/bruteforce.py:177\u001b[0m, in \u001b[0;36mcreate_cost_val_pd\u001b[0;34m(cost_val)\u001b[0m\n\u001b[1;32m    166\u001b[0m \u001b[38;5;250m\u001b[39m\u001b[38;5;124;03m\"\"\"\u001b[39;00m\n\u001b[1;32m    167\u001b[0m \u001b[38;5;124;03mConverts the dictionary to a data frame\u001b[39;00m\n\u001b[1;32m    168\u001b[0m \n\u001b[0;32m   (...)\u001b[0m\n\u001b[1;32m    173\u001b[0m \u001b[38;5;124;03m    data frame of all bitstring and cost\u001b[39;00m\n\u001b[1;32m    174\u001b[0m \u001b[38;5;124;03m\"\"\"\u001b[39;00m\n\u001b[1;32m    175\u001b[0m cost_val_pd \u001b[38;5;241m=\u001b[39m pd\u001b[38;5;241m.\u001b[39mDataFrame\u001b[38;5;241m.\u001b[39mfrom_dict(cost_val, orient\u001b[38;5;241m=\u001b[39m\u001b[38;5;124m\"\u001b[39m\u001b[38;5;124mindex\u001b[39m\u001b[38;5;124m\"\u001b[39m)\n\u001b[0;32m--> 177\u001b[0m \u001b[43mcost_val_pd\u001b[49m\u001b[38;5;241;43m.\u001b[39;49m\u001b[43mcolumns\u001b[49m \u001b[38;5;241m=\u001b[39m [\u001b[38;5;124m\"\u001b[39m\u001b[38;5;124mcost\u001b[39m\u001b[38;5;124m\"\u001b[39m]\n\u001b[1;32m    179\u001b[0m cost_val_pd \u001b[38;5;241m=\u001b[39m cost_val_pd\u001b[38;5;241m.\u001b[39msort_values(\u001b[38;5;124m\"\u001b[39m\u001b[38;5;124mcost\u001b[39m\u001b[38;5;124m\"\u001b[39m)\n\u001b[1;32m    181\u001b[0m cost_val_pd\u001b[38;5;241m.\u001b[39mreset_index()\n",
      "File \u001b[0;32m~/.pyenv/versions/3.9.0/envs/VQA/lib/python3.9/site-packages/pandas/core/generic.py:6310\u001b[0m, in \u001b[0;36mNDFrame.__setattr__\u001b[0;34m(self, name, value)\u001b[0m\n\u001b[1;32m   6308\u001b[0m \u001b[38;5;28;01mtry\u001b[39;00m:\n\u001b[1;32m   6309\u001b[0m     \u001b[38;5;28mobject\u001b[39m\u001b[38;5;241m.\u001b[39m\u001b[38;5;21m__getattribute__\u001b[39m(\u001b[38;5;28mself\u001b[39m, name)\n\u001b[0;32m-> 6310\u001b[0m     \u001b[38;5;28;01mreturn\u001b[39;00m \u001b[38;5;28;43mobject\u001b[39;49m\u001b[38;5;241;43m.\u001b[39;49m\u001b[38;5;21;43m__setattr__\u001b[39;49m\u001b[43m(\u001b[49m\u001b[38;5;28;43mself\u001b[39;49m\u001b[43m,\u001b[49m\u001b[43m \u001b[49m\u001b[43mname\u001b[49m\u001b[43m,\u001b[49m\u001b[43m \u001b[49m\u001b[43mvalue\u001b[49m\u001b[43m)\u001b[49m\n\u001b[1;32m   6311\u001b[0m \u001b[38;5;28;01mexcept\u001b[39;00m \u001b[38;5;167;01mAttributeError\u001b[39;00m:\n\u001b[1;32m   6312\u001b[0m     \u001b[38;5;28;01mpass\u001b[39;00m\n",
      "File \u001b[0;32mproperties.pyx:69\u001b[0m, in \u001b[0;36mpandas._libs.properties.AxisProperty.__set__\u001b[0;34m()\u001b[0m\n",
      "File \u001b[0;32m~/.pyenv/versions/3.9.0/envs/VQA/lib/python3.9/site-packages/pandas/core/generic.py:813\u001b[0m, in \u001b[0;36mNDFrame._set_axis\u001b[0;34m(self, axis, labels)\u001b[0m\n\u001b[1;32m    808\u001b[0m \u001b[38;5;250m\u001b[39m\u001b[38;5;124;03m\"\"\"\u001b[39;00m\n\u001b[1;32m    809\u001b[0m \u001b[38;5;124;03mThis is called from the cython code when we set the `index` attribute\u001b[39;00m\n\u001b[1;32m    810\u001b[0m \u001b[38;5;124;03mdirectly, e.g. `series.index = [1, 2, 3]`.\u001b[39;00m\n\u001b[1;32m    811\u001b[0m \u001b[38;5;124;03m\"\"\"\u001b[39;00m\n\u001b[1;32m    812\u001b[0m labels \u001b[38;5;241m=\u001b[39m ensure_index(labels)\n\u001b[0;32m--> 813\u001b[0m \u001b[38;5;28;43mself\u001b[39;49m\u001b[38;5;241;43m.\u001b[39;49m\u001b[43m_mgr\u001b[49m\u001b[38;5;241;43m.\u001b[39;49m\u001b[43mset_axis\u001b[49m\u001b[43m(\u001b[49m\u001b[43maxis\u001b[49m\u001b[43m,\u001b[49m\u001b[43m \u001b[49m\u001b[43mlabels\u001b[49m\u001b[43m)\u001b[49m\n\u001b[1;32m    814\u001b[0m \u001b[38;5;28mself\u001b[39m\u001b[38;5;241m.\u001b[39m_clear_item_cache()\n",
      "File \u001b[0;32m~/.pyenv/versions/3.9.0/envs/VQA/lib/python3.9/site-packages/pandas/core/internals/managers.py:238\u001b[0m, in \u001b[0;36mBaseBlockManager.set_axis\u001b[0;34m(self, axis, new_labels)\u001b[0m\n\u001b[1;32m    236\u001b[0m \u001b[38;5;28;01mdef\u001b[39;00m \u001b[38;5;21mset_axis\u001b[39m(\u001b[38;5;28mself\u001b[39m, axis: AxisInt, new_labels: Index) \u001b[38;5;241m-\u001b[39m\u001b[38;5;241m>\u001b[39m \u001b[38;5;28;01mNone\u001b[39;00m:\n\u001b[1;32m    237\u001b[0m     \u001b[38;5;66;03m# Caller is responsible for ensuring we have an Index object.\u001b[39;00m\n\u001b[0;32m--> 238\u001b[0m     \u001b[38;5;28;43mself\u001b[39;49m\u001b[38;5;241;43m.\u001b[39;49m\u001b[43m_validate_set_axis\u001b[49m\u001b[43m(\u001b[49m\u001b[43maxis\u001b[49m\u001b[43m,\u001b[49m\u001b[43m \u001b[49m\u001b[43mnew_labels\u001b[49m\u001b[43m)\u001b[49m\n\u001b[1;32m    239\u001b[0m     \u001b[38;5;28mself\u001b[39m\u001b[38;5;241m.\u001b[39maxes[axis] \u001b[38;5;241m=\u001b[39m new_labels\n",
      "File \u001b[0;32m~/.pyenv/versions/3.9.0/envs/VQA/lib/python3.9/site-packages/pandas/core/internals/base.py:98\u001b[0m, in \u001b[0;36mDataManager._validate_set_axis\u001b[0;34m(self, axis, new_labels)\u001b[0m\n\u001b[1;32m     95\u001b[0m     \u001b[38;5;28;01mpass\u001b[39;00m\n\u001b[1;32m     97\u001b[0m \u001b[38;5;28;01melif\u001b[39;00m new_len \u001b[38;5;241m!=\u001b[39m old_len:\n\u001b[0;32m---> 98\u001b[0m     \u001b[38;5;28;01mraise\u001b[39;00m \u001b[38;5;167;01mValueError\u001b[39;00m(\n\u001b[1;32m     99\u001b[0m         \u001b[38;5;124mf\u001b[39m\u001b[38;5;124m\"\u001b[39m\u001b[38;5;124mLength mismatch: Expected axis has \u001b[39m\u001b[38;5;132;01m{\u001b[39;00mold_len\u001b[38;5;132;01m}\u001b[39;00m\u001b[38;5;124m elements, new \u001b[39m\u001b[38;5;124m\"\u001b[39m\n\u001b[1;32m    100\u001b[0m         \u001b[38;5;124mf\u001b[39m\u001b[38;5;124m\"\u001b[39m\u001b[38;5;124mvalues have \u001b[39m\u001b[38;5;132;01m{\u001b[39;00mnew_len\u001b[38;5;132;01m}\u001b[39;00m\u001b[38;5;124m elements\u001b[39m\u001b[38;5;124m\"\u001b[39m\n\u001b[1;32m    101\u001b[0m     )\n",
      "\u001b[0;31mValueError\u001b[0m: Length mismatch: Expected axis has 2 elements, new values have 1 elements"
     ]
    }
   ],
   "source": [
    "coresets_pd = coresets_pd.drop(columns = [\"X\", \"Y\", \"weights\"])\n",
    "hc = perform_bruteforce_divisive_clustering(coresets_pd, method = \"maxcut\")\n",
    "dendo = Dendrogram(hc, coresets_pd, raw_data)\n",
    "dendo.get_centroid_dist_df()\n",
    "dendo.get_cluster_reference_dict()\n",
    "\n",
    "centroid_coords = dendo.get_centroid_coords()\n",
    "\n",
    "cost_list = get_divisive_cluster_cost(dendo, hc, centroid_coords)\n",
    "max_cut_cost = sum(cost_list)\n",
    "print(f\"Maxcut cost: {max_cut_cost}\")"
   ]
  },
  {
   "cell_type": "markdown",
   "id": "ebdb8fe0",
   "metadata": {},
   "source": [
    "## Visualizing the cost output"
   ]
  },
  {
   "cell_type": "code",
   "execution_count": null,
   "id": "4d326473",
   "metadata": {},
   "outputs": [],
   "source": [
    "# Define the cost values\n",
    "cost_values = [random_cost, vqe_cost, kmeans_cost, max_cut_cost]\n",
    "\n",
    "# Define the labels for the x-axis\n",
    "labels = ['Random Cluster','VQE', 'K-means', 'Brute Force']\n",
    "\n",
    "# Create the bar chart\n",
    "plt.bar(labels, cost_values)\n",
    "\n",
    "# Add labels and title\n",
    "plt.xlabel('Method')\n",
    "plt.ylabel('Cost Value')\n",
    "plt.title('Cost Values Comparison (Lower is better)')\n",
    "\n",
    "# Display the chart\n",
    "plt.show()"
   ]
  }
 ],
 "metadata": {
  "kernelspec": {
   "display_name": "Python 3 (ipykernel)",
   "language": "python",
   "name": "python3"
  },
  "language_info": {
   "codemirror_mode": {
    "name": "ipython",
    "version": 3
   },
   "file_extension": ".py",
   "mimetype": "text/x-python",
   "name": "python",
   "nbconvert_exporter": "python",
   "pygments_lexer": "ipython3",
   "version": "3.10.0"
  }
 },
 "nbformat": 4,
 "nbformat_minor": 5
}
