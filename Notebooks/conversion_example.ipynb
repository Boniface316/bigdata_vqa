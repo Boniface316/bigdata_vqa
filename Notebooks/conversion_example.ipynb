{
 "cells": [
  {
   "cell_type": "code",
   "execution_count": 2,
   "id": "610e97a2",
   "metadata": {},
   "outputs": [],
   "source": [
    "from orquestra.integrations.qiskit.conversions import import_from_qiskit\n",
    "from orquestra.integrations.cirq.conversions import export_to_cirq\n",
    "import cirq\n",
    "import qsimcirq\n",
    "from qiskit import QuantumCircuit"
   ]
  },
  {
   "cell_type": "code",
   "execution_count": 3,
   "id": "a9eb8d67",
   "metadata": {},
   "outputs": [
    {
     "data": {
      "image/png": "[encoded data removed]",
      "text/plain": [
       "<Figure size 371.107x284.278 with 1 Axes>"
      ]
     },
     "execution_count": 3,
     "metadata": {},
     "output_type": "execute_result"
    }
   ],
   "source": [
    "circ = QuantumCircuit(3)\n",
    "circ.h(0)\n",
    "circ.cx(0, 1)\n",
    "circ.cx(0, 2)\n",
    "circ.draw('mpl')"
   ]
  },
  {
   "cell_type": "code",
   "execution_count": 4,
   "id": "a91b9949",
   "metadata": {},
   "outputs": [
    {
     "data": {
      "text/plain": [
       "Circuit(operations=[H(0), CNOT(0,1), CNOT(0,2)], n_qubits=3)"
      ]
     },
     "execution_count": 4,
     "metadata": {},
     "output_type": "execute_result"
    }
   ],
   "source": [
    "qiskit_circ = import_from_qiskit(circ)\n",
    "qiskit_circ"
   ]
  },
  {
   "cell_type": "code",
   "execution_count": 5,
   "id": "d515c98d",
   "metadata": {},
   "outputs": [],
   "source": [
    "qubits = cirq.LineQubit.range(3)\n",
    "cirq_circ = export_to_cirq(qiskit_circ)\n",
    "cirq_circ.append(cirq.measure(*qubits))"
   ]
  },
  {
   "cell_type": "code",
   "execution_count": 6,
   "id": "c1f893c1",
   "metadata": {},
   "outputs": [],
   "source": [
    "def create_qsim_options(\n",
    "    max_fused_gate_size=2,\n",
    "    disable_gpu=False,\n",
    "    cpu_threads=1,\n",
    "    gpu_mode=(0,),\n",
    "    verbosity=0,\n",
    "    n_subsvs=-1,\n",
    "    use_sampler=None,\n",
    "    debug=False\n",
    "):\n",
    "    return qsimcirq.QSimOptions(\n",
    "        max_fused_gate_size=max_fused_gate_size,\n",
    "        disable_gpu=disable_gpu,\n",
    "        cpu_threads=cpu_threads,\n",
    "        gpu_mode=gpu_mode,\n",
    "        verbosity=verbosity,\n",
    "        n_subsvs=n_subsvs,\n",
    "        use_sampler=use_sampler,\n",
    "        debug=debug\n",
    "    )\n",
    "\n",
    "def qsim_options_from_arguments(ngpus):\n",
    "    if ngpus > 1:\n",
    "        return create_qsim_options(gpu_mode=ngpus)\n",
    "    elif ngpus == 1:\n",
    "        return create_qsim_options()\n",
    "    elif ngpus == 0:\n",
    "        return create_qsim_options(disable_gpu=True, gpu_mode=0, use_sampler=False)"
   ]
  },
  {
   "cell_type": "code",
   "execution_count": 7,
   "id": "5759d200",
   "metadata": {},
   "outputs": [
    {
     "data": {
      "text/plain": [
       "0,1,2=0011010000, 0011010000, 0011010000"
      ]
     },
     "execution_count": 7,
     "metadata": {},
     "output_type": "execute_result"
    }
   ],
   "source": [
    "ngpus=1\n",
    "qsim_options = qsim_options_from_arguments(ngpus)\n",
    "simulator = qsimcirq.QSimSimulator(qsim_options=qsim_options)\n",
    "results = simulator.run(cirq_circ, repetitions=10)\n",
    "results"
   ]
  },
  {
   "cell_type": "code",
   "execution_count": null,
   "id": "50c9792d",
   "metadata": {},
   "outputs": [],
   "source": []
  }
 ],
 "metadata": {
  "kernelspec": {
   "display_name": "Python 3 (ipykernel)",
   "language": "python",
   "name": "python3"
  },
  "language_info": {
   "codemirror_mode": {
    "name": "ipython",
    "version": 3
   },
   "file_extension": ".py",
   "mimetype": "text/x-python",
   "name": "python",
   "nbconvert_exporter": "python",
   "pygments_lexer": "ipython3",
   "version": "3.8.15"
  }
 },
 "nbformat": 4,
 "nbformat_minor": 5
}
